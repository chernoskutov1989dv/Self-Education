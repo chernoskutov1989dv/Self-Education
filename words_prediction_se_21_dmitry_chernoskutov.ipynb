{
  "nbformat": 4,
  "nbformat_minor": 0,
  "metadata": {
    "colab": {
      "provenance": [],
      "collapsed_sections": [],
      "authorship_tag": "ABX9TyNFo7rZy1wG5FjvxeauYkJ5",
      "include_colab_link": true
    },
    "kernelspec": {
      "name": "python3",
      "display_name": "Python 3"
    },
    "language_info": {
      "name": "python"
    }
  },
  "cells": [
    {
      "cell_type": "markdown",
      "metadata": {
        "id": "view-in-github",
        "colab_type": "text"
      },
      "source": [
        "<a href=\"https://colab.research.google.com/github/chernoskutov1989dv/Self-Education/blob/main/words_prediction_se_21_dmitry_chernoskutov.ipynb\" target=\"_parent\"><img src=\"https://colab.research.google.com/assets/colab-badge.svg\" alt=\"Open In Colab\"/></a>"
      ]
    },
    {
      "cell_type": "code",
      "execution_count": null,
      "metadata": {
        "id": "ZdrJRgyeVNDD"
      },
      "outputs": [],
      "source": [
        "import numpy as np\n",
        "\n",
        "from tensorflow.keras.layers import Dense, SimpleRNN, Input\n",
        "from tensorflow.keras.models import Sequential\n",
        "from tensorflow.keras.preprocessing.text import Tokenizer, text_to_word_sequence\n",
        "from tensorflow.keras.utils import to_categorical\n"
      ]
    },
    {
      "cell_type": "code",
      "source": [
        "open (\"/content/train_data_true.txt\")"
      ],
      "metadata": {
        "colab": {
          "base_uri": "https://localhost:8080/"
        },
        "id": "xDqIk_m2clP_",
        "outputId": "c3c783c9-e2d7-4c8c-e185-8e170a994be3"
      },
      "execution_count": null,
      "outputs": [
        {
          "output_type": "execute_result",
          "data": {
            "text/plain": [
              "<_io.TextIOWrapper name='/content/train_data_true.txt' mode='r' encoding='UTF-8'>"
            ]
          },
          "metadata": {},
          "execution_count": 41
        }
      ]
    },
    {
      "cell_type": "code",
      "source": [
        "open (\"/content/train_data_false.txt\")"
      ],
      "metadata": {
        "colab": {
          "base_uri": "https://localhost:8080/"
        },
        "id": "z4tjEP_mcq_L",
        "outputId": "d38094e1-f042-4bb2-b965-009657e256ad"
      },
      "execution_count": null,
      "outputs": [
        {
          "output_type": "execute_result",
          "data": {
            "text/plain": [
              "<_io.TextIOWrapper name='/content/train_data_false.txt' mode='r' encoding='UTF-8'>"
            ]
          },
          "metadata": {},
          "execution_count": 43
        }
      ]
    },
    {
      "cell_type": "code",
      "source": [
        "with open('train_data_true.txt', 'r', encoding='utf-8') as f:\n",
        "    texts = f.read()\n",
        "    texts = texts.replace('\\ufeff', '')  # убираем первый невидимый символ\n"
      ],
      "metadata": {
        "id": "X08v2w5NVX1W"
      },
      "execution_count": null,
      "outputs": []
    },
    {
      "cell_type": "code",
      "source": [
        "#with open('train_data_false.txt', 'r', encoding='utf-8') as f:\n",
        "    #texts = f.read()\n",
        "    #texts = texts.replace('\\ufeff', '') "
      ],
      "metadata": {
        "id": "qVc6zuVVYuQf"
      },
      "execution_count": null,
      "outputs": []
    },
    {
      "cell_type": "code",
      "source": [
        "maxWordsCount = 1000\n",
        "tokenizer = Tokenizer(num_words=maxWordsCount, filters='!–\"—#$%&amp;()*+,-./:;<=>?@[\\\\]^_`{|}~\\t\\n\\r«»',\n",
        "                      lower=True, split=' ', char_level=False)\n",
        "tokenizer.fit_on_texts([texts])\n",
        "\n",
        "dist = list(tokenizer.word_counts.items())\n",
        "print(dist[:10])\n"
      ],
      "metadata": {
        "colab": {
          "base_uri": "https://localhost:8080/"
        },
        "id": "N49hZmsdVa_L",
        "outputId": "3ba46725-8aea-4e1e-d5f1-6f3c2d1e9861"
      },
      "execution_count": null,
      "outputs": [
        {
          "output_type": "stream",
          "name": "stdout",
          "text": [
            "[('думайте', 1), ('позитивно', 4), ('и', 29), ('верьте', 3), ('в', 23), ('свою', 3), ('способность', 1), ('достигать', 1), ('отличных', 1), ('результатов', 1)]\n"
          ]
        }
      ]
    },
    {
      "cell_type": "code",
      "source": [
        "data = tokenizer.texts_to_sequences([texts])\n",
        "res = to_categorical(data[0], num_classes=maxWordsCount)\n",
        "print(res.shape)\n"
      ],
      "metadata": {
        "colab": {
          "base_uri": "https://localhost:8080/"
        },
        "id": "2V2o8EkKV6vF",
        "outputId": "b1e627d0-306b-49d0-8318-11e810248a52"
      },
      "execution_count": null,
      "outputs": [
        {
          "output_type": "stream",
          "name": "stdout",
          "text": [
            "(989, 1000)\n"
          ]
        }
      ]
    },
    {
      "cell_type": "code",
      "source": [
        "inp_words = 3\n",
        "n = res.shape[0] - inp_words\n",
        "\n",
        "X = np.array([res[i:i + inp_words, :] for i in range(n)])\n",
        "Y = res[inp_words:]"
      ],
      "metadata": {
        "id": "qw3-tHmKV9p1"
      },
      "execution_count": null,
      "outputs": []
    },
    {
      "cell_type": "code",
      "source": [
        "model = Sequential()\n",
        "model.add(Input((inp_words, maxWordsCount)))\n",
        "model.add(SimpleRNN(128, activation='tanh'))\n",
        "model.add(Dense(maxWordsCount, activation='softmax'))\n",
        "model.summary()"
      ],
      "metadata": {
        "colab": {
          "base_uri": "https://localhost:8080/"
        },
        "id": "vXNbrZQpWESV",
        "outputId": "dc55f5d3-4ab8-4e14-bac8-6de8cc597a48"
      },
      "execution_count": null,
      "outputs": [
        {
          "output_type": "stream",
          "name": "stdout",
          "text": [
            "Model: \"sequential_5\"\n",
            "_________________________________________________________________\n",
            " Layer (type)                Output Shape              Param #   \n",
            "=================================================================\n",
            " simple_rnn_5 (SimpleRNN)    (None, 128)               144512    \n",
            "                                                                 \n",
            " dense_5 (Dense)             (None, 1000)              129000    \n",
            "                                                                 \n",
            "=================================================================\n",
            "Total params: 273,512\n",
            "Trainable params: 273,512\n",
            "Non-trainable params: 0\n",
            "_________________________________________________________________\n"
          ]
        }
      ]
    },
    {
      "cell_type": "code",
      "source": [
        "model.compile(loss='categorical_crossentropy', metrics=['accuracy'], optimizer='adam')"
      ],
      "metadata": {
        "id": "ieK3hFCzWGKV"
      },
      "execution_count": null,
      "outputs": []
    },
    {
      "cell_type": "code",
      "source": [
        "history = model.fit(X, Y, batch_size=32, epochs=50)"
      ],
      "metadata": {
        "colab": {
          "base_uri": "https://localhost:8080/"
        },
        "id": "3HSxHyKHWJU9",
        "outputId": "5f2d0ee8-6dfb-48b1-93b4-6e97c68869ce"
      },
      "execution_count": null,
      "outputs": [
        {
          "output_type": "stream",
          "name": "stdout",
          "text": [
            "Epoch 1/50\n",
            "31/31 [==============================] - 1s 9ms/step - loss: 6.8911 - accuracy: 0.0132\n",
            "Epoch 2/50\n",
            "31/31 [==============================] - 0s 8ms/step - loss: 6.3346 - accuracy: 0.0487\n",
            "Epoch 3/50\n",
            "31/31 [==============================] - 0s 10ms/step - loss: 5.8501 - accuracy: 0.0507\n",
            "Epoch 4/50\n",
            "31/31 [==============================] - 0s 9ms/step - loss: 5.6752 - accuracy: 0.0396\n",
            "Epoch 5/50\n",
            "31/31 [==============================] - 0s 9ms/step - loss: 5.5217 - accuracy: 0.0477\n",
            "Epoch 6/50\n",
            "31/31 [==============================] - 0s 10ms/step - loss: 5.3516 - accuracy: 0.0730\n",
            "Epoch 7/50\n",
            "31/31 [==============================] - 0s 9ms/step - loss: 5.1445 - accuracy: 0.1136\n",
            "Epoch 8/50\n",
            "31/31 [==============================] - 0s 9ms/step - loss: 4.8774 - accuracy: 0.1349\n",
            "Epoch 9/50\n",
            "31/31 [==============================] - 0s 10ms/step - loss: 4.5333 - accuracy: 0.1968\n",
            "Epoch 10/50\n",
            "31/31 [==============================] - 0s 9ms/step - loss: 4.1257 - accuracy: 0.2718\n",
            "Epoch 11/50\n",
            "31/31 [==============================] - 0s 9ms/step - loss: 3.6751 - accuracy: 0.3611\n",
            "Epoch 12/50\n",
            "31/31 [==============================] - 0s 9ms/step - loss: 3.2238 - accuracy: 0.4604\n",
            "Epoch 13/50\n",
            "31/31 [==============================] - 0s 9ms/step - loss: 2.7816 - accuracy: 0.5669\n",
            "Epoch 14/50\n",
            "31/31 [==============================] - 0s 8ms/step - loss: 2.3803 - accuracy: 0.6420\n",
            "Epoch 15/50\n",
            "31/31 [==============================] - 0s 9ms/step - loss: 2.0217 - accuracy: 0.6856\n",
            "Epoch 16/50\n",
            "31/31 [==============================] - 0s 9ms/step - loss: 1.7243 - accuracy: 0.7221\n",
            "Epoch 17/50\n",
            "31/31 [==============================] - 0s 10ms/step - loss: 1.4803 - accuracy: 0.7535\n",
            "Epoch 18/50\n",
            "31/31 [==============================] - 0s 10ms/step - loss: 1.2888 - accuracy: 0.7870\n",
            "Epoch 19/50\n",
            "31/31 [==============================] - 0s 10ms/step - loss: 1.1401 - accuracy: 0.8073\n",
            "Epoch 20/50\n",
            "31/31 [==============================] - 0s 10ms/step - loss: 1.0232 - accuracy: 0.8256\n",
            "Epoch 21/50\n",
            "31/31 [==============================] - 0s 10ms/step - loss: 0.9316 - accuracy: 0.8408\n",
            "Epoch 22/50\n",
            "31/31 [==============================] - 0s 9ms/step - loss: 0.8461 - accuracy: 0.8661\n",
            "Epoch 23/50\n",
            "31/31 [==============================] - 0s 10ms/step - loss: 0.7776 - accuracy: 0.8895\n",
            "Epoch 24/50\n",
            "31/31 [==============================] - 0s 10ms/step - loss: 0.7171 - accuracy: 0.8945\n",
            "Epoch 25/50\n",
            "31/31 [==============================] - 0s 10ms/step - loss: 0.6650 - accuracy: 0.8976\n",
            "Epoch 26/50\n",
            "31/31 [==============================] - 0s 10ms/step - loss: 0.6163 - accuracy: 0.9067\n",
            "Epoch 27/50\n",
            "31/31 [==============================] - 0s 10ms/step - loss: 0.5736 - accuracy: 0.9229\n",
            "Epoch 28/50\n",
            "31/31 [==============================] - 0s 9ms/step - loss: 0.5339 - accuracy: 0.9260\n",
            "Epoch 29/50\n",
            "31/31 [==============================] - 0s 10ms/step - loss: 0.5000 - accuracy: 0.9351\n",
            "Epoch 30/50\n",
            "31/31 [==============================] - 0s 10ms/step - loss: 0.4617 - accuracy: 0.9422\n",
            "Epoch 31/50\n",
            "31/31 [==============================] - 0s 10ms/step - loss: 0.4300 - accuracy: 0.9473\n",
            "Epoch 32/50\n",
            "31/31 [==============================] - 0s 10ms/step - loss: 0.4038 - accuracy: 0.9483\n",
            "Epoch 33/50\n",
            "31/31 [==============================] - 0s 10ms/step - loss: 0.3793 - accuracy: 0.9493\n",
            "Epoch 34/50\n",
            "31/31 [==============================] - 0s 10ms/step - loss: 0.3539 - accuracy: 0.9513\n",
            "Epoch 35/50\n",
            "31/31 [==============================] - 0s 10ms/step - loss: 0.3310 - accuracy: 0.9574\n",
            "Epoch 36/50\n",
            "31/31 [==============================] - 0s 9ms/step - loss: 0.3113 - accuracy: 0.9564\n",
            "Epoch 37/50\n",
            "31/31 [==============================] - 0s 10ms/step - loss: 0.2912 - accuracy: 0.9615\n",
            "Epoch 38/50\n",
            "31/31 [==============================] - 0s 9ms/step - loss: 0.2794 - accuracy: 0.9584\n",
            "Epoch 39/50\n",
            "31/31 [==============================] - 0s 11ms/step - loss: 0.2642 - accuracy: 0.9544\n",
            "Epoch 40/50\n",
            "31/31 [==============================] - 0s 13ms/step - loss: 0.2451 - accuracy: 0.9665\n",
            "Epoch 41/50\n",
            "31/31 [==============================] - 0s 9ms/step - loss: 0.2306 - accuracy: 0.9665\n",
            "Epoch 42/50\n",
            "31/31 [==============================] - 0s 10ms/step - loss: 0.2231 - accuracy: 0.9665\n",
            "Epoch 43/50\n",
            "31/31 [==============================] - 0s 12ms/step - loss: 0.2087 - accuracy: 0.9686\n",
            "Epoch 44/50\n",
            "31/31 [==============================] - 0s 11ms/step - loss: 0.2001 - accuracy: 0.9635\n",
            "Epoch 45/50\n",
            "31/31 [==============================] - 0s 11ms/step - loss: 0.1893 - accuracy: 0.9706\n",
            "Epoch 46/50\n",
            "31/31 [==============================] - 0s 11ms/step - loss: 0.1838 - accuracy: 0.9716\n",
            "Epoch 47/50\n",
            "31/31 [==============================] - 0s 11ms/step - loss: 0.1755 - accuracy: 0.9696\n",
            "Epoch 48/50\n",
            "31/31 [==============================] - 0s 11ms/step - loss: 0.1639 - accuracy: 0.9807\n",
            "Epoch 49/50\n",
            "31/31 [==============================] - 0s 11ms/step - loss: 0.1611 - accuracy: 0.9716\n",
            "Epoch 50/50\n",
            "31/31 [==============================] - 0s 12ms/step - loss: 0.1499 - accuracy: 0.9767\n"
          ]
        }
      ]
    },
    {
      "cell_type": "code",
      "source": [
        "def buildPhrase(texts, str_len=50):\n",
        "    res = texts\n",
        "    data = tokenizer.texts_to_sequences([texts])[0]\n",
        "    for i in range(str_len):\n",
        "        x = to_categorical(data[i: i + inp_words], num_classes=maxWordsCount)  # преобразуем в One-Hot-encoding\n",
        "        inp = x.reshape(1, inp_words, maxWordsCount)\n",
        "\n",
        "        pred = model.predict(inp)\n",
        "        indx = pred.argmax(axis=1)[0]\n",
        "        data.append(indx)\n",
        "\n",
        "        res += \" \" + tokenizer.index_word[indx]  # дописываем строку\n",
        "\n",
        "    return res\n",
        "res = buildPhrase(\"Хорошее настроение добавляет\")\n",
        "print(res)"
      ],
      "metadata": {
        "colab": {
          "base_uri": "https://localhost:8080/"
        },
        "id": "HWS5OjM4Wv_G",
        "outputId": "a511a6d1-46d7-4f54-b3de-cbafbb44e523"
      },
      "execution_count": null,
      "outputs": [
        {
          "output_type": "stream",
          "name": "stdout",
          "text": [
            "1/1 [==============================] - 0s 136ms/step\n",
            "1/1 [==============================] - 0s 17ms/step\n",
            "1/1 [==============================] - 0s 21ms/step\n",
            "1/1 [==============================] - 0s 19ms/step\n",
            "1/1 [==============================] - 0s 21ms/step\n",
            "1/1 [==============================] - 0s 18ms/step\n",
            "1/1 [==============================] - 0s 18ms/step\n",
            "1/1 [==============================] - 0s 18ms/step\n",
            "1/1 [==============================] - 0s 17ms/step\n",
            "1/1 [==============================] - 0s 20ms/step\n",
            "1/1 [==============================] - 0s 18ms/step\n",
            "1/1 [==============================] - 0s 20ms/step\n",
            "1/1 [==============================] - 0s 18ms/step\n",
            "1/1 [==============================] - 0s 20ms/step\n",
            "1/1 [==============================] - 0s 18ms/step\n",
            "1/1 [==============================] - 0s 18ms/step\n",
            "1/1 [==============================] - 0s 18ms/step\n",
            "1/1 [==============================] - 0s 18ms/step\n",
            "1/1 [==============================] - 0s 18ms/step\n",
            "1/1 [==============================] - 0s 17ms/step\n",
            "1/1 [==============================] - 0s 17ms/step\n",
            "1/1 [==============================] - 0s 17ms/step\n",
            "1/1 [==============================] - 0s 18ms/step\n",
            "1/1 [==============================] - 0s 19ms/step\n",
            "1/1 [==============================] - 0s 18ms/step\n",
            "1/1 [==============================] - 0s 17ms/step\n",
            "1/1 [==============================] - 0s 24ms/step\n",
            "1/1 [==============================] - 0s 21ms/step\n",
            "1/1 [==============================] - 0s 18ms/step\n",
            "1/1 [==============================] - 0s 18ms/step\n",
            "1/1 [==============================] - 0s 18ms/step\n",
            "1/1 [==============================] - 0s 23ms/step\n",
            "1/1 [==============================] - 0s 18ms/step\n",
            "1/1 [==============================] - 0s 21ms/step\n",
            "1/1 [==============================] - 0s 18ms/step\n",
            "1/1 [==============================] - 0s 19ms/step\n",
            "1/1 [==============================] - 0s 19ms/step\n",
            "1/1 [==============================] - 0s 24ms/step\n",
            "1/1 [==============================] - 0s 18ms/step\n",
            "1/1 [==============================] - 0s 19ms/step\n",
            "1/1 [==============================] - 0s 18ms/step\n",
            "1/1 [==============================] - 0s 22ms/step\n",
            "1/1 [==============================] - 0s 19ms/step\n",
            "1/1 [==============================] - 0s 23ms/step\n",
            "1/1 [==============================] - 0s 20ms/step\n",
            "1/1 [==============================] - 0s 23ms/step\n",
            "1/1 [==============================] - 0s 18ms/step\n",
            "1/1 [==============================] - 0s 18ms/step\n",
            "1/1 [==============================] - 0s 18ms/step\n",
            "1/1 [==============================] - 0s 18ms/step\n",
            "Хорошее настроение добавляет годы к вашей жизни весну к вашему шагу искорку в ваших глазах природные способности важны но вы можете многого достичь и без них если у вас есть два варианта быть положительным или отрицательным оптимистом или пессимистом практически нет ничего невозможного в этом мире если вы просто посмотрите на жизнь позитивно\n"
          ]
        }
      ]
    }
  ]
}