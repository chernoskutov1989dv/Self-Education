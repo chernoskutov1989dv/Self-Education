{
  "nbformat": 4,
  "nbformat_minor": 0,
  "metadata": {
    "colab": {
      "provenance": [],
      "collapsed_sections": [],
      "name": "15-1-rnn-without embedding-se-21-version-1.ipynb",
      "authorship_tag": "ABX9TyNZX4yOcwOIHt5WawXH5Hei",
      "include_colab_link": true
    },
    "kernelspec": {
      "name": "python3",
      "display_name": "Python 3"
    },
    "language_info": {
      "name": "python"
    }
  },
  "cells": [
    {
      "cell_type": "markdown",
      "metadata": {
        "id": "view-in-github",
        "colab_type": "text"
      },
      "source": [
        "<a href=\"https://colab.research.google.com/github/chernoskutov1989dv/Self-Education/blob/main/15_1_rnn_without_embedding_se_21_version_1.ipynb\" target=\"_parent\"><img src=\"https://colab.research.google.com/assets/colab-badge.svg\" alt=\"Open In Colab\"/></a>"
      ]
    },
    {
      "cell_type": "code",
      "execution_count": null,
      "metadata": {
        "id": "emo6xXkZPaf3"
      },
      "outputs": [],
      "source": [
        "import numpy as np\n",
        "from tensorflow.keras.models import Sequential\n",
        "from tensorflow.keras.layers import Dense, SimpleRNN, Input\n",
        "from tensorflow.keras.preprocessing.text import Tokenizer, text_to_word_sequence\n",
        "from tensorflow.keras.utils import to_categorical"
      ]
    },
    {
      "cell_type": "code",
      "source": [
        "open (\"/content/train_data_true.txt\")"
      ],
      "metadata": {
        "colab": {
          "base_uri": "https://localhost:8080/"
        },
        "id": "epBN5F3mPhU-",
        "outputId": "d7f64670-7fb4-4a3d-bace-34bb3d79d2a6"
      },
      "execution_count": null,
      "outputs": [
        {
          "output_type": "execute_result",
          "data": {
            "text/plain": [
              "<_io.TextIOWrapper name='/content/train_data_true.txt' mode='r' encoding='UTF-8'>"
            ]
          },
          "metadata": {},
          "execution_count": 2
        }
      ]
    },
    {
      "cell_type": "code",
      "source": [
        "\n",
        "with open('train_data_true.txt', 'r', encoding='utf-8') as f:\n",
        "    texts = f.read()\n",
        "    texts = texts.replace('\\ufeff', '')  # убираем первый невидимый символ"
      ],
      "metadata": {
        "id": "M8amxUaUPsB3"
      },
      "execution_count": null,
      "outputs": []
    },
    {
      "cell_type": "code",
      "source": [
        "maxWordsCount = 1000\n",
        "tokenizer = Tokenizer(num_words=maxWordsCount, filters='!–\"—#$%&amp;()*+,-./:;<=>?@[\\\\]^_`{|}~\\t\\n\\r«»',\n",
        "                      lower=True, split=' ', char_level=False)\n",
        "tokenizer.fit_on_texts([texts])\n",
        "\n",
        "dist = list(tokenizer.word_counts.items())\n",
        "print(dist[:10])\n"
      ],
      "metadata": {
        "colab": {
          "base_uri": "https://localhost:8080/"
        },
        "id": "acAaSoRTP2sP",
        "outputId": "2195c985-8792-47f4-af0e-a6e7cd018831"
      },
      "execution_count": null,
      "outputs": [
        {
          "output_type": "stream",
          "name": "stdout",
          "text": [
            "[('думайте', 1), ('позитивно', 4), ('и', 29), ('верьте', 3), ('в', 23), ('свою', 3), ('способность', 1), ('достигать', 1), ('отличных', 1), ('результатов', 1)]\n"
          ]
        }
      ]
    },
    {
      "cell_type": "code",
      "source": [
        "data = tokenizer.texts_to_sequences([texts])\n",
        "res = to_categorical(data[0], num_classes=maxWordsCount)\n",
        "print(res.shape)\n",
        "\n",
        "inp_words = 3\n",
        "n = res.shape[0] - inp_words\n",
        "\n",
        "X = np.array([res[i:i + inp_words] for i in range(n)])  \n",
        "Y = res[inp_words:]\n"
      ],
      "metadata": {
        "colab": {
          "base_uri": "https://localhost:8080/"
        },
        "id": "gBHlZ0yhP4sP",
        "outputId": "47f2d7b1-d5f5-46d3-d585-472b3221866f"
      },
      "execution_count": null,
      "outputs": [
        {
          "output_type": "stream",
          "name": "stdout",
          "text": [
            "(989, 1000)\n"
          ]
        }
      ]
    },
    {
      "cell_type": "code",
      "source": [
        "model = Sequential()\n",
        "model.add(Input((inp_words, maxWordsCount)))\n",
        "model.add(SimpleRNN(128, activation='tanh'))  # 1ый рекуррентный слой\n",
        "model.add(Dense(maxWordsCount, activation='softmax'))\n",
        "model.summary()"
      ],
      "metadata": {
        "colab": {
          "base_uri": "https://localhost:8080/"
        },
        "id": "Jf4yMknKP87f",
        "outputId": "fa3bc0b0-2f11-4d82-e233-f85fc7cb7e26"
      },
      "execution_count": null,
      "outputs": [
        {
          "output_type": "stream",
          "name": "stdout",
          "text": [
            "Model: \"sequential\"\n",
            "_________________________________________________________________\n",
            " Layer (type)                Output Shape              Param #   \n",
            "=================================================================\n",
            " simple_rnn (SimpleRNN)      (None, 128)               144512    \n",
            "                                                                 \n",
            " dense (Dense)               (None, 1000)              129000    \n",
            "                                                                 \n",
            "=================================================================\n",
            "Total params: 273,512\n",
            "Trainable params: 273,512\n",
            "Non-trainable params: 0\n",
            "_________________________________________________________________\n"
          ]
        }
      ]
    },
    {
      "cell_type": "code",
      "source": [
        "model.compile(loss='categorical_crossentropy', metrics=['accuracy'], optimizer='adam')"
      ],
      "metadata": {
        "id": "TKeo_FGtQALP"
      },
      "execution_count": null,
      "outputs": []
    },
    {
      "cell_type": "code",
      "source": [
        "history = model.fit(X, Y, batch_size=32, epochs=50)"
      ],
      "metadata": {
        "colab": {
          "base_uri": "https://localhost:8080/"
        },
        "id": "WiiI5LTPQCsP",
        "outputId": "637b11dd-b96a-434e-f97d-0ab48d50dcb1"
      },
      "execution_count": null,
      "outputs": [
        {
          "output_type": "stream",
          "name": "stdout",
          "text": [
            "Epoch 1/50\n",
            "31/31 [==============================] - 1s 10ms/step - loss: 6.8935 - accuracy: 0.0233\n",
            "Epoch 2/50\n",
            "31/31 [==============================] - 0s 8ms/step - loss: 6.3711 - accuracy: 0.0456\n",
            "Epoch 3/50\n",
            "31/31 [==============================] - 0s 9ms/step - loss: 5.8691 - accuracy: 0.0406\n",
            "Epoch 4/50\n",
            "31/31 [==============================] - 0s 9ms/step - loss: 5.6861 - accuracy: 0.0375\n",
            "Epoch 5/50\n",
            "31/31 [==============================] - 0s 9ms/step - loss: 5.5215 - accuracy: 0.0487\n",
            "Epoch 6/50\n",
            "31/31 [==============================] - 0s 9ms/step - loss: 5.3463 - accuracy: 0.0609\n",
            "Epoch 7/50\n",
            "31/31 [==============================] - 0s 9ms/step - loss: 5.1487 - accuracy: 0.1034\n",
            "Epoch 8/50\n",
            "31/31 [==============================] - 0s 9ms/step - loss: 4.8919 - accuracy: 0.1318\n",
            "Epoch 9/50\n",
            "31/31 [==============================] - 0s 8ms/step - loss: 4.5480 - accuracy: 0.1714\n",
            "Epoch 10/50\n",
            "31/31 [==============================] - 0s 9ms/step - loss: 4.1301 - accuracy: 0.2586\n",
            "Epoch 11/50\n",
            "31/31 [==============================] - 0s 9ms/step - loss: 3.6781 - accuracy: 0.3590\n",
            "Epoch 12/50\n",
            "31/31 [==============================] - 0s 8ms/step - loss: 3.2093 - accuracy: 0.4970\n",
            "Epoch 13/50\n",
            "31/31 [==============================] - 0s 8ms/step - loss: 2.7604 - accuracy: 0.5811\n",
            "Epoch 14/50\n",
            "31/31 [==============================] - 0s 10ms/step - loss: 2.3425 - accuracy: 0.6491\n",
            "Epoch 15/50\n",
            "31/31 [==============================] - 0s 9ms/step - loss: 1.9814 - accuracy: 0.6978\n",
            "Epoch 16/50\n",
            "31/31 [==============================] - 0s 8ms/step - loss: 1.6819 - accuracy: 0.7221\n",
            "Epoch 17/50\n",
            "31/31 [==============================] - 0s 9ms/step - loss: 1.4405 - accuracy: 0.7606\n",
            "Epoch 18/50\n",
            "31/31 [==============================] - 0s 9ms/step - loss: 1.2551 - accuracy: 0.7809\n",
            "Epoch 19/50\n",
            "31/31 [==============================] - 0s 9ms/step - loss: 1.1104 - accuracy: 0.8195\n",
            "Epoch 20/50\n",
            "31/31 [==============================] - 0s 9ms/step - loss: 0.9939 - accuracy: 0.8398\n",
            "Epoch 21/50\n",
            "31/31 [==============================] - 0s 9ms/step - loss: 0.8992 - accuracy: 0.8651\n",
            "Epoch 22/50\n",
            "31/31 [==============================] - 0s 9ms/step - loss: 0.8242 - accuracy: 0.8763\n",
            "Epoch 23/50\n",
            "31/31 [==============================] - 0s 9ms/step - loss: 0.7547 - accuracy: 0.8864\n",
            "Epoch 24/50\n",
            "31/31 [==============================] - 0s 9ms/step - loss: 0.6963 - accuracy: 0.8966\n",
            "Epoch 25/50\n",
            "31/31 [==============================] - 0s 9ms/step - loss: 0.6452 - accuracy: 0.9047\n",
            "Epoch 26/50\n",
            "31/31 [==============================] - 0s 9ms/step - loss: 0.5945 - accuracy: 0.9229\n",
            "Epoch 27/50\n",
            "31/31 [==============================] - 0s 9ms/step - loss: 0.5567 - accuracy: 0.9229\n",
            "Epoch 28/50\n",
            "31/31 [==============================] - 0s 8ms/step - loss: 0.5174 - accuracy: 0.9331\n",
            "Epoch 29/50\n",
            "31/31 [==============================] - 0s 9ms/step - loss: 0.4858 - accuracy: 0.9249\n",
            "Epoch 30/50\n",
            "31/31 [==============================] - 0s 8ms/step - loss: 0.4546 - accuracy: 0.9391\n",
            "Epoch 31/50\n",
            "31/31 [==============================] - 0s 8ms/step - loss: 0.4240 - accuracy: 0.9452\n",
            "Epoch 32/50\n",
            "31/31 [==============================] - 0s 9ms/step - loss: 0.3993 - accuracy: 0.9412\n",
            "Epoch 33/50\n",
            "31/31 [==============================] - 0s 9ms/step - loss: 0.3705 - accuracy: 0.9503\n",
            "Epoch 34/50\n",
            "31/31 [==============================] - 0s 9ms/step - loss: 0.3470 - accuracy: 0.9564\n",
            "Epoch 35/50\n",
            "31/31 [==============================] - 0s 8ms/step - loss: 0.3290 - accuracy: 0.9533\n",
            "Epoch 36/50\n",
            "31/31 [==============================] - 0s 9ms/step - loss: 0.3064 - accuracy: 0.9594\n",
            "Epoch 37/50\n",
            "31/31 [==============================] - 0s 9ms/step - loss: 0.2897 - accuracy: 0.9584\n",
            "Epoch 38/50\n",
            "31/31 [==============================] - 0s 10ms/step - loss: 0.2735 - accuracy: 0.9675\n",
            "Epoch 39/50\n",
            "31/31 [==============================] - 0s 9ms/step - loss: 0.2574 - accuracy: 0.9655\n",
            "Epoch 40/50\n",
            "31/31 [==============================] - 0s 9ms/step - loss: 0.2427 - accuracy: 0.9736\n",
            "Epoch 41/50\n",
            "31/31 [==============================] - 0s 9ms/step - loss: 0.2291 - accuracy: 0.9686\n",
            "Epoch 42/50\n",
            "31/31 [==============================] - 0s 9ms/step - loss: 0.2196 - accuracy: 0.9716\n",
            "Epoch 43/50\n",
            "31/31 [==============================] - 0s 9ms/step - loss: 0.2088 - accuracy: 0.9716\n",
            "Epoch 44/50\n",
            "31/31 [==============================] - 0s 8ms/step - loss: 0.1988 - accuracy: 0.9726\n",
            "Epoch 45/50\n",
            "31/31 [==============================] - 0s 9ms/step - loss: 0.1890 - accuracy: 0.9696\n",
            "Epoch 46/50\n",
            "31/31 [==============================] - 0s 9ms/step - loss: 0.1796 - accuracy: 0.9716\n",
            "Epoch 47/50\n",
            "31/31 [==============================] - 0s 9ms/step - loss: 0.1736 - accuracy: 0.9716\n",
            "Epoch 48/50\n",
            "31/31 [==============================] - 0s 9ms/step - loss: 0.1649 - accuracy: 0.9746\n",
            "Epoch 49/50\n",
            "31/31 [==============================] - 0s 9ms/step - loss: 0.1581 - accuracy: 0.9757\n",
            "Epoch 50/50\n",
            "31/31 [==============================] - 0s 9ms/step - loss: 0.1502 - accuracy: 0.9736\n"
          ]
        }
      ]
    },
    {
      "cell_type": "code",
      "source": [
        "def buildPhrase(texts, str_len=20):\n",
        "    res = texts\n",
        "    data = tokenizer.texts_to_sequences([texts])[0]\n",
        "    for i in range(str_len):\n",
        "        x = to_categorical(data[i: i + inp_words], num_classes=maxWordsCount)  # преобразуем в One-Hot-encoding\n",
        "        inp = x.reshape(1, inp_words, maxWordsCount)\n",
        "\n",
        "        pred = model.predict(inp)\n",
        "        indx = pred.argmax(axis=1)[0]\n",
        "        data.append(indx)\n",
        "\n",
        "        res += \" \" + tokenizer.index_word[indx]  # дописываем строку\n",
        "\n",
        "    return res\n",
        "\n",
        "\n",
        "res = buildPhrase(\"позитив добавляет годы\")\n",
        "print(res)\n"
      ],
      "metadata": {
        "colab": {
          "base_uri": "https://localhost:8080/"
        },
        "id": "zs3biyjZQFwe",
        "outputId": "ba090246-9c7a-464e-8abb-12661ef50ec3"
      },
      "execution_count": null,
      "outputs": [
        {
          "output_type": "stream",
          "name": "stdout",
          "text": [
            "1/1 [==============================] - 0s 174ms/step\n",
            "1/1 [==============================] - 0s 18ms/step\n",
            "1/1 [==============================] - 0s 17ms/step\n",
            "1/1 [==============================] - 0s 19ms/step\n",
            "1/1 [==============================] - 0s 17ms/step\n",
            "1/1 [==============================] - 0s 18ms/step\n",
            "1/1 [==============================] - 0s 17ms/step\n",
            "1/1 [==============================] - 0s 18ms/step\n",
            "1/1 [==============================] - 0s 17ms/step\n",
            "1/1 [==============================] - 0s 18ms/step\n",
            "1/1 [==============================] - 0s 17ms/step\n",
            "1/1 [==============================] - 0s 18ms/step\n",
            "1/1 [==============================] - 0s 18ms/step\n",
            "1/1 [==============================] - 0s 18ms/step\n",
            "1/1 [==============================] - 0s 19ms/step\n",
            "1/1 [==============================] - 0s 25ms/step\n",
            "1/1 [==============================] - 0s 17ms/step\n",
            "1/1 [==============================] - 0s 17ms/step\n",
            "1/1 [==============================] - 0s 17ms/step\n",
            "1/1 [==============================] - 0s 21ms/step\n",
            "позитив добавляет годы счастье вашей жизни и к их все весну держись лучшему шагу мечты учись ваших заставить опыт способности не а нужно\n"
          ]
        }
      ]
    }
  ]
}