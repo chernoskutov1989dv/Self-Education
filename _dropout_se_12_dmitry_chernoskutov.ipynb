{
  "nbformat": 4,
  "nbformat_minor": 0,
  "metadata": {
    "colab": {
      "provenance": [],
      "collapsed_sections": [],
      "authorship_tag": "ABX9TyNKdrRUWPR62UbGqV1bTBqq",
      "include_colab_link": true
    },
    "kernelspec": {
      "name": "python3",
      "display_name": "Python 3"
    },
    "language_info": {
      "name": "python"
    }
  },
  "cells": [
    {
      "cell_type": "markdown",
      "metadata": {
        "id": "view-in-github",
        "colab_type": "text"
      },
      "source": [
        "<a href=\"https://colab.research.google.com/github/chernoskutov1989dv/Self-Education/blob/main/_dropout_se_12_dmitry_chernoskutov.ipynb\" target=\"_parent\"><img src=\"https://colab.research.google.com/assets/colab-badge.svg\" alt=\"Open In Colab\"/></a>"
      ]
    },
    {
      "cell_type": "code",
      "execution_count": null,
      "metadata": {
        "id": "HnNmL42mqp7V"
      },
      "outputs": [],
      "source": [
        "import numpy as np\n",
        "import matplotlib.pyplot as plt\n",
        "from tensorflow.keras.datasets import mnist\n",
        "from tensorflow import keras\n",
        "from tensorflow.keras.layers import Dense, Flatten, Dropout\n"
      ]
    },
    {
      "cell_type": "code",
      "source": [
        "(x_train, y_train), (x_test, y_test) = mnist.load_data()\n",
        "\n",
        "\n",
        "x_train = x_train/255\n",
        "x_test = x_test/255"
      ],
      "metadata": {
        "id": "8KC1Hw-Fq4GY"
      },
      "execution_count": null,
      "outputs": []
    },
    {
      "cell_type": "code",
      "source": [
        "y_train_cat = keras.utils.to_categorical(y_train, 10)\n",
        "y_test_cat = keras.utils.to_categorical(y_test, 10)\n"
      ],
      "metadata": {
        "id": "YCSlA63yq9Jw"
      },
      "execution_count": null,
      "outputs": []
    },
    {
      "cell_type": "code",
      "source": [
        "limit = 5000\n",
        "x_train_data = x_train [: limit]\n",
        "y_train_data = y_train_cat [: limit]"
      ],
      "metadata": {
        "id": "1l-R8ARErHGH"
      },
      "execution_count": null,
      "outputs": []
    },
    {
      "cell_type": "code",
      "source": [
        "x_valid = x_train [limit : limit*2]\n",
        "y_valid = y_train_cat[limit : limit*2]\n"
      ],
      "metadata": {
        "id": "ablZlyB7rUyQ"
      },
      "execution_count": null,
      "outputs": []
    },
    {
      "cell_type": "markdown",
      "source": [
        "Добавим метод Dropout"
      ],
      "metadata": {
        "id": "HSu35LCE89mG"
      }
    },
    {
      "cell_type": "code",
      "source": [
        "model = keras.Sequential([\n",
        "    Flatten(input_shape=(28, 28, 1)),\n",
        "    Dense(300, activation='relu'),\n",
        "    Dropout(0.8),\n",
        "    Dense(10, activation='softmax') ])\n"
      ],
      "metadata": {
        "id": "WeFW8xz2rYeJ"
      },
      "execution_count": null,
      "outputs": []
    },
    {
      "cell_type": "code",
      "source": [
        "model.compile (optimizer = \"adam\",\n",
        "              loss = \"categorical_crossentropy\",\n",
        "              metrics = [\"accuracy\"])"
      ],
      "metadata": {
        "id": "VhBoMZgHra5v"
      },
      "execution_count": null,
      "outputs": []
    },
    {
      "cell_type": "code",
      "source": [
        "his = model.fit(x_train_data, y_train_data, epochs = 50, batch_size=32, validation_data= (x_valid, y_valid))"
      ],
      "metadata": {
        "colab": {
          "base_uri": "https://localhost:8080/"
        },
        "id": "kip0rOu7rgg4",
        "outputId": "e3be5dce-633f-4448-d5a0-48798789fd44"
      },
      "execution_count": null,
      "outputs": [
        {
          "output_type": "stream",
          "name": "stdout",
          "text": [
            "Epoch 1/50\n",
            "157/157 [==============================] - 4s 17ms/step - loss: 1.1666 - accuracy: 0.6246 - val_loss: 0.4938 - val_accuracy: 0.8680\n",
            "Epoch 2/50\n",
            "157/157 [==============================] - 2s 12ms/step - loss: 0.6219 - accuracy: 0.8106 - val_loss: 0.3729 - val_accuracy: 0.8992\n",
            "Epoch 3/50\n",
            "157/157 [==============================] - 2s 14ms/step - loss: 0.4940 - accuracy: 0.8532 - val_loss: 0.3215 - val_accuracy: 0.9120\n",
            "Epoch 4/50\n",
            "157/157 [==============================] - 2s 12ms/step - loss: 0.4246 - accuracy: 0.8750 - val_loss: 0.2981 - val_accuracy: 0.9128\n",
            "Epoch 5/50\n",
            "157/157 [==============================] - 2s 12ms/step - loss: 0.3867 - accuracy: 0.8850 - val_loss: 0.2742 - val_accuracy: 0.9194\n",
            "Epoch 6/50\n",
            "157/157 [==============================] - 1s 6ms/step - loss: 0.3428 - accuracy: 0.8990 - val_loss: 0.2599 - val_accuracy: 0.9218\n",
            "Epoch 7/50\n",
            "157/157 [==============================] - 1s 8ms/step - loss: 0.3275 - accuracy: 0.9062 - val_loss: 0.2467 - val_accuracy: 0.9260\n",
            "Epoch 8/50\n",
            "157/157 [==============================] - 1s 8ms/step - loss: 0.2994 - accuracy: 0.9104 - val_loss: 0.2473 - val_accuracy: 0.9260\n",
            "Epoch 9/50\n",
            "157/157 [==============================] - 1s 7ms/step - loss: 0.2885 - accuracy: 0.9108 - val_loss: 0.2361 - val_accuracy: 0.9276\n",
            "Epoch 10/50\n",
            "157/157 [==============================] - 1s 8ms/step - loss: 0.2837 - accuracy: 0.9168 - val_loss: 0.2256 - val_accuracy: 0.9280\n",
            "Epoch 11/50\n",
            "157/157 [==============================] - 1s 6ms/step - loss: 0.2700 - accuracy: 0.9218 - val_loss: 0.2245 - val_accuracy: 0.9316\n",
            "Epoch 12/50\n",
            "157/157 [==============================] - 1s 8ms/step - loss: 0.2500 - accuracy: 0.9286 - val_loss: 0.2141 - val_accuracy: 0.9350\n",
            "Epoch 13/50\n",
            "157/157 [==============================] - 1s 8ms/step - loss: 0.2394 - accuracy: 0.9256 - val_loss: 0.2146 - val_accuracy: 0.9348\n",
            "Epoch 14/50\n",
            "157/157 [==============================] - 1s 6ms/step - loss: 0.2275 - accuracy: 0.9300 - val_loss: 0.2200 - val_accuracy: 0.9328\n",
            "Epoch 15/50\n",
            "157/157 [==============================] - 1s 8ms/step - loss: 0.2199 - accuracy: 0.9340 - val_loss: 0.2102 - val_accuracy: 0.9364\n",
            "Epoch 16/50\n",
            "157/157 [==============================] - 1s 6ms/step - loss: 0.2134 - accuracy: 0.9364 - val_loss: 0.2138 - val_accuracy: 0.9342\n",
            "Epoch 17/50\n",
            "157/157 [==============================] - 1s 6ms/step - loss: 0.2104 - accuracy: 0.9324 - val_loss: 0.2028 - val_accuracy: 0.9376\n",
            "Epoch 18/50\n",
            "157/157 [==============================] - 1s 8ms/step - loss: 0.2091 - accuracy: 0.9324 - val_loss: 0.2049 - val_accuracy: 0.9354\n",
            "Epoch 19/50\n",
            "157/157 [==============================] - 1s 6ms/step - loss: 0.1922 - accuracy: 0.9392 - val_loss: 0.2107 - val_accuracy: 0.9370\n",
            "Epoch 20/50\n",
            "157/157 [==============================] - 1s 9ms/step - loss: 0.1773 - accuracy: 0.9418 - val_loss: 0.2045 - val_accuracy: 0.9394\n",
            "Epoch 21/50\n",
            "157/157 [==============================] - 1s 8ms/step - loss: 0.1761 - accuracy: 0.9462 - val_loss: 0.2031 - val_accuracy: 0.9384\n",
            "Epoch 22/50\n",
            "157/157 [==============================] - 1s 6ms/step - loss: 0.1767 - accuracy: 0.9446 - val_loss: 0.2090 - val_accuracy: 0.9368\n",
            "Epoch 23/50\n",
            "157/157 [==============================] - 1s 6ms/step - loss: 0.1738 - accuracy: 0.9456 - val_loss: 0.2000 - val_accuracy: 0.9412\n",
            "Epoch 24/50\n",
            "157/157 [==============================] - 1s 6ms/step - loss: 0.1640 - accuracy: 0.9504 - val_loss: 0.2078 - val_accuracy: 0.9410\n",
            "Epoch 25/50\n",
            "157/157 [==============================] - 1s 6ms/step - loss: 0.1628 - accuracy: 0.9462 - val_loss: 0.1997 - val_accuracy: 0.9440\n",
            "Epoch 26/50\n",
            "157/157 [==============================] - 1s 7ms/step - loss: 0.1727 - accuracy: 0.9460 - val_loss: 0.2067 - val_accuracy: 0.9396\n",
            "Epoch 27/50\n",
            "157/157 [==============================] - 1s 6ms/step - loss: 0.1535 - accuracy: 0.9466 - val_loss: 0.2010 - val_accuracy: 0.9410\n",
            "Epoch 28/50\n",
            "157/157 [==============================] - 1s 9ms/step - loss: 0.1673 - accuracy: 0.9480 - val_loss: 0.1969 - val_accuracy: 0.9428\n",
            "Epoch 29/50\n",
            "157/157 [==============================] - 1s 8ms/step - loss: 0.1472 - accuracy: 0.9510 - val_loss: 0.2065 - val_accuracy: 0.9400\n",
            "Epoch 30/50\n",
            "157/157 [==============================] - 1s 8ms/step - loss: 0.1492 - accuracy: 0.9532 - val_loss: 0.2084 - val_accuracy: 0.9396\n",
            "Epoch 31/50\n",
            "157/157 [==============================] - 1s 8ms/step - loss: 0.1441 - accuracy: 0.9548 - val_loss: 0.2014 - val_accuracy: 0.9420\n",
            "Epoch 32/50\n",
            "157/157 [==============================] - 1s 9ms/step - loss: 0.1401 - accuracy: 0.9536 - val_loss: 0.2024 - val_accuracy: 0.9432\n",
            "Epoch 33/50\n",
            "157/157 [==============================] - 1s 7ms/step - loss: 0.1326 - accuracy: 0.9536 - val_loss: 0.2019 - val_accuracy: 0.9444\n",
            "Epoch 34/50\n",
            "157/157 [==============================] - 1s 6ms/step - loss: 0.1224 - accuracy: 0.9606 - val_loss: 0.2124 - val_accuracy: 0.9424\n",
            "Epoch 35/50\n",
            "157/157 [==============================] - 1s 6ms/step - loss: 0.1236 - accuracy: 0.9590 - val_loss: 0.2151 - val_accuracy: 0.9398\n",
            "Epoch 36/50\n",
            "157/157 [==============================] - 1s 8ms/step - loss: 0.1183 - accuracy: 0.9620 - val_loss: 0.2093 - val_accuracy: 0.9442\n",
            "Epoch 37/50\n",
            "157/157 [==============================] - 1s 7ms/step - loss: 0.1235 - accuracy: 0.9576 - val_loss: 0.2082 - val_accuracy: 0.9442\n",
            "Epoch 38/50\n",
            "157/157 [==============================] - 1s 9ms/step - loss: 0.1308 - accuracy: 0.9560 - val_loss: 0.2199 - val_accuracy: 0.9418\n",
            "Epoch 39/50\n",
            "157/157 [==============================] - 1s 7ms/step - loss: 0.1221 - accuracy: 0.9586 - val_loss: 0.2120 - val_accuracy: 0.9450\n",
            "Epoch 40/50\n",
            "157/157 [==============================] - 1s 6ms/step - loss: 0.1229 - accuracy: 0.9578 - val_loss: 0.2273 - val_accuracy: 0.9400\n",
            "Epoch 41/50\n",
            "157/157 [==============================] - 1s 9ms/step - loss: 0.1087 - accuracy: 0.9628 - val_loss: 0.2205 - val_accuracy: 0.9454\n",
            "Epoch 42/50\n",
            "157/157 [==============================] - 1s 6ms/step - loss: 0.1217 - accuracy: 0.9610 - val_loss: 0.2172 - val_accuracy: 0.9444\n",
            "Epoch 43/50\n",
            "157/157 [==============================] - 1s 7ms/step - loss: 0.1169 - accuracy: 0.9624 - val_loss: 0.2139 - val_accuracy: 0.9446\n",
            "Epoch 44/50\n",
            "157/157 [==============================] - 1s 9ms/step - loss: 0.1280 - accuracy: 0.9584 - val_loss: 0.2123 - val_accuracy: 0.9456\n",
            "Epoch 45/50\n",
            "157/157 [==============================] - 1s 9ms/step - loss: 0.1215 - accuracy: 0.9604 - val_loss: 0.2131 - val_accuracy: 0.9446\n",
            "Epoch 46/50\n",
            "157/157 [==============================] - 1s 8ms/step - loss: 0.1141 - accuracy: 0.9618 - val_loss: 0.2237 - val_accuracy: 0.9448\n",
            "Epoch 47/50\n",
            "157/157 [==============================] - 1s 7ms/step - loss: 0.1088 - accuracy: 0.9638 - val_loss: 0.2275 - val_accuracy: 0.9436\n",
            "Epoch 48/50\n",
            "157/157 [==============================] - 1s 8ms/step - loss: 0.1137 - accuracy: 0.9596 - val_loss: 0.2161 - val_accuracy: 0.9462\n",
            "Epoch 49/50\n",
            "157/157 [==============================] - 1s 6ms/step - loss: 0.1117 - accuracy: 0.9628 - val_loss: 0.2241 - val_accuracy: 0.9448\n",
            "Epoch 50/50\n",
            "157/157 [==============================] - 1s 7ms/step - loss: 0.1110 - accuracy: 0.9628 - val_loss: 0.2326 - val_accuracy: 0.9458\n"
          ]
        }
      ]
    },
    {
      "cell_type": "code",
      "source": [
        "plt.plot (his.history [\"loss\"])\n",
        "plt.plot (his.history [\"val_loss\"])\n",
        "\n",
        "plt.show()\n"
      ],
      "metadata": {
        "colab": {
          "base_uri": "https://localhost:8080/",
          "height": 266
        },
        "id": "5Kw5Fe2Arxx4",
        "outputId": "388ca1aa-52ef-465e-f5a8-126999eaea7f"
      },
      "execution_count": null,
      "outputs": [
        {
          "output_type": "display_data",
          "data": {
            "text/plain": [
              "<Figure size 432x288 with 1 Axes>"
            ],
            "image/png": "[encoded data removed]"
          },
          "metadata": {
            "needs_background": "light"
          }
        }
      ]
    }
  ]
}