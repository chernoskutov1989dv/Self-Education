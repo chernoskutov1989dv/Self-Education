{
  "nbformat": 4,
  "nbformat_minor": 0,
  "metadata": {
    "colab": {
      "provenance": [],
      "collapsed_sections": [],
      "authorship_tag": "ABX9TyPOzt6MJH3U1Qi9CgDhDobI",
      "include_colab_link": true
    },
    "kernelspec": {
      "name": "python3",
      "display_name": "Python 3"
    },
    "language_info": {
      "name": "python"
    }
  },
  "cells": [
    {
      "cell_type": "markdown",
      "metadata": {
        "id": "view-in-github",
        "colab_type": "text"
      },
      "source": [
        "<a href=\"https://colab.research.google.com/github/chernoskutov1989dv/Self-Education/blob/main/batchnormalization_dmitry_chernoskutov.ipynb\" target=\"_parent\"><img src=\"https://colab.research.google.com/assets/colab-badge.svg\" alt=\"Open In Colab\"/></a>"
      ]
    },
    {
      "cell_type": "code",
      "execution_count": null,
      "metadata": {
        "id": "DO7HdBWa_TPB"
      },
      "outputs": [],
      "source": [
        "import numpy as np\n",
        "import matplotlib.pyplot as plt\n",
        "from tensorflow.keras.datasets import mnist\n",
        "from tensorflow import keras\n",
        "from tensorflow.keras.layers import Dense, Flatten, Dropout, BatchNormalization\n"
      ]
    },
    {
      "cell_type": "code",
      "source": [
        "(x_train, y_train), (x_test, y_test) = mnist.load_data()\n",
        "\n",
        "x_train = x_train/255\n",
        "x_test = x_test/255"
      ],
      "metadata": {
        "id": "3VoFFLvR_aYV"
      },
      "execution_count": null,
      "outputs": []
    },
    {
      "cell_type": "code",
      "source": [
        "y_train_cat = keras.utils.to_categorical(y_train, 10)\n",
        "y_test_cat = keras.utils.to_categorical(y_test, 10)"
      ],
      "metadata": {
        "id": "PrgGimso_elF"
      },
      "execution_count": null,
      "outputs": []
    },
    {
      "cell_type": "code",
      "source": [
        "limit = 5000\n",
        "x_train_data = x_train[:limit]\n",
        "y_train_data = y_train_cat[:limit]\n"
      ],
      "metadata": {
        "id": "lHmvpXCf_fyV"
      },
      "execution_count": null,
      "outputs": []
    },
    {
      "cell_type": "code",
      "source": [
        "x_valid = x_train [limit : limit*2]\n",
        "y_valid = y_train_cat[limit : limit*2]\n"
      ],
      "metadata": {
        "id": "bO41JGI-_hN9"
      },
      "execution_count": null,
      "outputs": []
    },
    {
      "cell_type": "code",
      "source": [
        "model = keras.Sequential ([\n",
        "    Flatten (input_shape = (28, 28, 1)),\n",
        "    Dense (300, activation = \"relu\"),\n",
        "    BatchNormalization (),             #BatchNormalization () протестить с вкл выключ BatchNormalization ()\n",
        "    Dense (10, activation = \"softmax\")\n",
        "\n",
        "])\n"
      ],
      "metadata": {
        "id": "ZDf5cRbc_lpP"
      },
      "execution_count": null,
      "outputs": []
    },
    {
      "cell_type": "code",
      "source": [
        "model.compile (optimizer = \"adam\",\n",
        "              loss = \"categorical_crossentropy\",\n",
        "              metrics = [\"accuracy\"])\n"
      ],
      "metadata": {
        "id": "3IR7H2wH_p_N"
      },
      "execution_count": null,
      "outputs": []
    },
    {
      "cell_type": "code",
      "source": [
        "his = model.fit(x_train_data, y_train_data, epochs = 50, batch_size=32, validation_data= (x_valid, y_valid))\n"
      ],
      "metadata": {
        "colab": {
          "base_uri": "https://localhost:8080/"
        },
        "id": "lFmy6_Td_rmd",
        "outputId": "2c160d10-f7b7-4b5e-9098-f8c7afc84019"
      },
      "execution_count": null,
      "outputs": [
        {
          "output_type": "stream",
          "name": "stdout",
          "text": [
            "Epoch 1/50\n",
            "157/157 [==============================] - 2s 7ms/step - loss: 0.4500 - accuracy: 0.8634 - val_loss: 0.5435 - val_accuracy: 0.8738\n",
            "Epoch 2/50\n",
            "157/157 [==============================] - 1s 8ms/step - loss: 0.1798 - accuracy: 0.9504 - val_loss: 0.2809 - val_accuracy: 0.9192\n",
            "Epoch 3/50\n",
            "157/157 [==============================] - 1s 8ms/step - loss: 0.1055 - accuracy: 0.9728 - val_loss: 0.2397 - val_accuracy: 0.9236\n",
            "Epoch 4/50\n",
            "157/157 [==============================] - 1s 8ms/step - loss: 0.0713 - accuracy: 0.9828 - val_loss: 0.2236 - val_accuracy: 0.9336\n",
            "Epoch 5/50\n",
            "157/157 [==============================] - 1s 6ms/step - loss: 0.0476 - accuracy: 0.9906 - val_loss: 0.2089 - val_accuracy: 0.9378\n",
            "Epoch 6/50\n",
            "157/157 [==============================] - 1s 6ms/step - loss: 0.0304 - accuracy: 0.9942 - val_loss: 0.2185 - val_accuracy: 0.9314\n",
            "Epoch 7/50\n",
            "157/157 [==============================] - 1s 6ms/step - loss: 0.0232 - accuracy: 0.9966 - val_loss: 0.2297 - val_accuracy: 0.9306\n",
            "Epoch 8/50\n",
            "157/157 [==============================] - 1s 6ms/step - loss: 0.0180 - accuracy: 0.9972 - val_loss: 0.2146 - val_accuracy: 0.9386\n",
            "Epoch 9/50\n",
            "157/157 [==============================] - 1s 8ms/step - loss: 0.0134 - accuracy: 0.9986 - val_loss: 0.2174 - val_accuracy: 0.9342\n",
            "Epoch 10/50\n",
            "157/157 [==============================] - 1s 6ms/step - loss: 0.0107 - accuracy: 0.9988 - val_loss: 0.1983 - val_accuracy: 0.9430\n",
            "Epoch 11/50\n",
            "157/157 [==============================] - 1s 8ms/step - loss: 0.0083 - accuracy: 0.9992 - val_loss: 0.2091 - val_accuracy: 0.9426\n",
            "Epoch 12/50\n",
            "157/157 [==============================] - 1s 8ms/step - loss: 0.0070 - accuracy: 0.9996 - val_loss: 0.2030 - val_accuracy: 0.9442\n",
            "Epoch 13/50\n",
            "157/157 [==============================] - 1s 8ms/step - loss: 0.0101 - accuracy: 0.9990 - val_loss: 0.2301 - val_accuracy: 0.9364\n",
            "Epoch 14/50\n",
            "157/157 [==============================] - 1s 6ms/step - loss: 0.0213 - accuracy: 0.9936 - val_loss: 0.2740 - val_accuracy: 0.9260\n",
            "Epoch 15/50\n",
            "157/157 [==============================] - 1s 6ms/step - loss: 0.0283 - accuracy: 0.9926 - val_loss: 0.2531 - val_accuracy: 0.9300\n",
            "Epoch 16/50\n",
            "157/157 [==============================] - 1s 6ms/step - loss: 0.0386 - accuracy: 0.9888 - val_loss: 0.2840 - val_accuracy: 0.9262\n",
            "Epoch 17/50\n",
            "157/157 [==============================] - 1s 6ms/step - loss: 0.0235 - accuracy: 0.9938 - val_loss: 0.2257 - val_accuracy: 0.9372\n",
            "Epoch 18/50\n",
            "157/157 [==============================] - 1s 8ms/step - loss: 0.0125 - accuracy: 0.9970 - val_loss: 0.2491 - val_accuracy: 0.9342\n",
            "Epoch 19/50\n",
            "157/157 [==============================] - 1s 6ms/step - loss: 0.0137 - accuracy: 0.9964 - val_loss: 0.2111 - val_accuracy: 0.9424\n",
            "Epoch 20/50\n",
            "157/157 [==============================] - 1s 6ms/step - loss: 0.0114 - accuracy: 0.9970 - val_loss: 0.2226 - val_accuracy: 0.9406\n",
            "Epoch 21/50\n",
            "157/157 [==============================] - 1s 6ms/step - loss: 0.0069 - accuracy: 0.9992 - val_loss: 0.2155 - val_accuracy: 0.9444\n",
            "Epoch 22/50\n",
            "157/157 [==============================] - 1s 6ms/step - loss: 0.0062 - accuracy: 0.9988 - val_loss: 0.2244 - val_accuracy: 0.9426\n",
            "Epoch 23/50\n",
            "157/157 [==============================] - 1s 8ms/step - loss: 0.0056 - accuracy: 0.9994 - val_loss: 0.2053 - val_accuracy: 0.9474\n",
            "Epoch 24/50\n",
            "157/157 [==============================] - 1s 6ms/step - loss: 0.0042 - accuracy: 0.9990 - val_loss: 0.2456 - val_accuracy: 0.9392\n",
            "Epoch 25/50\n",
            "157/157 [==============================] - 1s 9ms/step - loss: 0.0105 - accuracy: 0.9978 - val_loss: 0.2216 - val_accuracy: 0.9412\n",
            "Epoch 26/50\n",
            "157/157 [==============================] - 2s 11ms/step - loss: 0.0079 - accuracy: 0.9978 - val_loss: 0.2368 - val_accuracy: 0.9402\n",
            "Epoch 27/50\n",
            "157/157 [==============================] - 1s 6ms/step - loss: 0.0073 - accuracy: 0.9988 - val_loss: 0.2272 - val_accuracy: 0.9420\n",
            "Epoch 28/50\n",
            "157/157 [==============================] - 1s 6ms/step - loss: 0.0038 - accuracy: 0.9994 - val_loss: 0.2290 - val_accuracy: 0.9440\n",
            "Epoch 29/50\n",
            "157/157 [==============================] - 1s 6ms/step - loss: 0.0030 - accuracy: 0.9996 - val_loss: 0.2587 - val_accuracy: 0.9384\n",
            "Epoch 30/50\n",
            "157/157 [==============================] - 1s 6ms/step - loss: 0.0024 - accuracy: 0.9996 - val_loss: 0.2268 - val_accuracy: 0.9474\n",
            "Epoch 31/50\n",
            "157/157 [==============================] - 1s 6ms/step - loss: 0.0020 - accuracy: 1.0000 - val_loss: 0.2274 - val_accuracy: 0.9454\n",
            "Epoch 32/50\n",
            "157/157 [==============================] - 1s 6ms/step - loss: 0.0020 - accuracy: 0.9998 - val_loss: 0.2404 - val_accuracy: 0.9448\n",
            "Epoch 33/50\n",
            "157/157 [==============================] - 1s 8ms/step - loss: 0.0019 - accuracy: 0.9998 - val_loss: 0.2555 - val_accuracy: 0.9436\n",
            "Epoch 34/50\n",
            "157/157 [==============================] - 1s 6ms/step - loss: 0.0036 - accuracy: 0.9996 - val_loss: 0.2410 - val_accuracy: 0.9432\n",
            "Epoch 35/50\n",
            "157/157 [==============================] - 1s 6ms/step - loss: 0.0139 - accuracy: 0.9964 - val_loss: 0.3433 - val_accuracy: 0.9280\n",
            "Epoch 36/50\n",
            "157/157 [==============================] - 1s 8ms/step - loss: 0.0349 - accuracy: 0.9898 - val_loss: 0.3340 - val_accuracy: 0.9260\n",
            "Epoch 37/50\n",
            "157/157 [==============================] - 1s 6ms/step - loss: 0.0320 - accuracy: 0.9896 - val_loss: 0.2951 - val_accuracy: 0.9312\n",
            "Epoch 38/50\n",
            "157/157 [==============================] - 1s 6ms/step - loss: 0.0120 - accuracy: 0.9962 - val_loss: 0.2519 - val_accuracy: 0.9430\n",
            "Epoch 39/50\n",
            "157/157 [==============================] - 1s 6ms/step - loss: 0.0084 - accuracy: 0.9976 - val_loss: 0.2610 - val_accuracy: 0.9384\n",
            "Epoch 40/50\n",
            "157/157 [==============================] - 1s 8ms/step - loss: 0.0039 - accuracy: 0.9996 - val_loss: 0.2267 - val_accuracy: 0.9450\n",
            "Epoch 41/50\n",
            "157/157 [==============================] - 1s 8ms/step - loss: 0.0044 - accuracy: 0.9990 - val_loss: 0.2498 - val_accuracy: 0.9444\n",
            "Epoch 42/50\n",
            "157/157 [==============================] - 1s 6ms/step - loss: 0.0057 - accuracy: 0.9990 - val_loss: 0.2342 - val_accuracy: 0.9442\n",
            "Epoch 43/50\n",
            "157/157 [==============================] - 1s 6ms/step - loss: 0.0034 - accuracy: 0.9996 - val_loss: 0.2427 - val_accuracy: 0.9442\n",
            "Epoch 44/50\n",
            "157/157 [==============================] - 1s 6ms/step - loss: 0.0021 - accuracy: 0.9998 - val_loss: 0.2204 - val_accuracy: 0.9500\n",
            "Epoch 45/50\n",
            "157/157 [==============================] - 1s 8ms/step - loss: 0.0026 - accuracy: 0.9996 - val_loss: 0.2363 - val_accuracy: 0.9480\n",
            "Epoch 46/50\n",
            "157/157 [==============================] - 1s 9ms/step - loss: 0.0012 - accuracy: 1.0000 - val_loss: 0.2194 - val_accuracy: 0.9510\n",
            "Epoch 47/50\n",
            "157/157 [==============================] - 1s 8ms/step - loss: 0.0010 - accuracy: 1.0000 - val_loss: 0.2412 - val_accuracy: 0.9486\n",
            "Epoch 48/50\n",
            "157/157 [==============================] - 1s 8ms/step - loss: 5.3303e-04 - accuracy: 1.0000 - val_loss: 0.2342 - val_accuracy: 0.9516\n",
            "Epoch 49/50\n",
            "157/157 [==============================] - 1s 6ms/step - loss: 0.0016 - accuracy: 0.9996 - val_loss: 0.2493 - val_accuracy: 0.9468\n",
            "Epoch 50/50\n",
            "157/157 [==============================] - 1s 6ms/step - loss: 0.0012 - accuracy: 0.9998 - val_loss: 0.2326 - val_accuracy: 0.9476\n"
          ]
        }
      ]
    },
    {
      "cell_type": "code",
      "source": [
        "plt.plot (his.history [\"loss\"])\n",
        "plt.plot (his.history [\"val_loss\"])\n",
        "\n",
        "plt.show()"
      ],
      "metadata": {
        "colab": {
          "base_uri": "https://localhost:8080/",
          "height": 265
        },
        "id": "qVjTvH1x_0tg",
        "outputId": "0493fc5d-d29c-47c3-fc92-0a6909d45ce3"
      },
      "execution_count": null,
      "outputs": [
        {
          "output_type": "display_data",
          "data": {
            "text/plain": [
              "<Figure size 432x288 with 1 Axes>"
            ],
            "image/png": "[encoded data removed]"
          },
          "metadata": {
            "needs_background": "light"
          }
        }
      ]
    }
  ]
}