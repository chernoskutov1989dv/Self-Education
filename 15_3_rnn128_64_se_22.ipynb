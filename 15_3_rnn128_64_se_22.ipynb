{
  "nbformat": 4,
  "nbformat_minor": 0,
  "metadata": {
    "colab": {
      "provenance": [],
      "collapsed_sections": [],
      "authorship_tag": "ABX9TyPnjFMHRwkxriferNc9rY17",
      "include_colab_link": true
    },
    "kernelspec": {
      "name": "python3",
      "display_name": "Python 3"
    },
    "language_info": {
      "name": "python"
    }
  },
  "cells": [
    {
      "cell_type": "markdown",
      "metadata": {
        "id": "view-in-github",
        "colab_type": "text"
      },
      "source": [
        "<a href=\"https://colab.research.google.com/github/chernoskutov1989dv/Self-Education/blob/main/15_3_rnn128_64_se_22.ipynb\" target=\"_parent\"><img src=\"https://colab.research.google.com/assets/colab-badge.svg\" alt=\"Open In Colab\"/></a>"
      ]
    },
    {
      "cell_type": "code",
      "execution_count": null,
      "metadata": {
        "id": "X90zsspAiou7"
      },
      "outputs": [],
      "source": [
        "import numpy as np\n",
        "\n",
        "from tensorflow.keras.layers import Dense, SimpleRNN, Input, Embedding  # Embedding отсекает ненужные связи(нули), оптимизируя обьем памяти\n",
        "from tensorflow.keras.models import Sequential\n",
        "from tensorflow.keras.preprocessing.text import Tokenizer, text_to_word_sequence\n",
        "from tensorflow.keras.utils import to_categorical"
      ]
    },
    {
      "cell_type": "code",
      "source": [
        "open (\"/content/train_data_true.txt\")"
      ],
      "metadata": {
        "colab": {
          "base_uri": "https://localhost:8080/"
        },
        "id": "6kJuGj5wivdQ",
        "outputId": "39213a35-874d-41b5-e558-16a43b32d3d5"
      },
      "execution_count": null,
      "outputs": [
        {
          "output_type": "execute_result",
          "data": {
            "text/plain": [
              "<_io.TextIOWrapper name='/content/train_data_true.txt' mode='r' encoding='UTF-8'>"
            ]
          },
          "metadata": {},
          "execution_count": 2
        }
      ]
    },
    {
      "cell_type": "code",
      "source": [
        "\n",
        "with open('train_data_true.txt', 'r', encoding='utf-8') as f:\n",
        "    texts = f.read()\n",
        "    texts = texts.replace('\\ufeff', '')  # убираем первый невидимый символ"
      ],
      "metadata": {
        "id": "MIGz2BuYi0C1"
      },
      "execution_count": null,
      "outputs": []
    },
    {
      "cell_type": "code",
      "source": [
        "maxWordsCount = 1000\n",
        "tokenizer = Tokenizer(num_words=maxWordsCount, filters='!–\"—#$%&amp;()*+,-./:;<=>?@[\\\\]^_`{|}~\\t\\n\\r«»',\n",
        "                      lower=True, split=' ', char_level=False)\n",
        "tokenizer.fit_on_texts([texts])\n",
        "\n",
        "dist = list(tokenizer.word_counts.items())\n",
        "print(dist[:10])"
      ],
      "metadata": {
        "colab": {
          "base_uri": "https://localhost:8080/"
        },
        "id": "fvGYHEMci2uv",
        "outputId": "ba7418f4-2637-4aac-dd62-5d80bb5bb4ab"
      },
      "execution_count": null,
      "outputs": [
        {
          "output_type": "stream",
          "name": "stdout",
          "text": [
            "[('думайте', 1), ('позитивно', 4), ('и', 29), ('верьте', 3), ('в', 23), ('свою', 3), ('способность', 1), ('достигать', 1), ('отличных', 1), ('результатов', 1)]\n"
          ]
        }
      ]
    },
    {
      "cell_type": "code",
      "source": [
        "data = tokenizer.texts_to_sequences([texts])\n",
        "#res = to_categorical(data[0], num_classes=maxWordsCount)\n",
        "#print(res.shape)\n",
        "\n",
        "res = np.array( data[0] )\n",
        "\n",
        "inp_words = 3\n",
        "n = res.shape[0] - inp_words\n",
        "\n",
        "X = np.array([res[i:i + inp_words] for i in range(n)])  # теперь это набор чисел!!\n",
        "Y = to_categorical(res[inp_words:], num_classes=maxWordsCount)"
      ],
      "metadata": {
        "id": "d3vmPtU6i5sX"
      },
      "execution_count": null,
      "outputs": []
    },
    {
      "cell_type": "code",
      "source": [
        "model = Sequential()\n",
        "model.add(Embedding(maxWordsCount, 256, input_length = inp_words))  # Embedding слой должен быть первым!! \n",
        "model.add(SimpleRNN(128, activation='tanh', return_sequences=True))  # 1ый рекуррентный слой в формате MANY TO MANY!\n",
        "model.add(SimpleRNN(64, activation='tanh'))  # 2ой рекуррентный слой many to one\n",
        "model.add(Dense(maxWordsCount, activation='softmax'))\n",
        "model.summary()"
      ],
      "metadata": {
        "colab": {
          "base_uri": "https://localhost:8080/"
        },
        "id": "FCm3g6pMi8m3",
        "outputId": "fdd62286-4f2a-49e8-d5f7-a90b49f5d593"
      },
      "execution_count": null,
      "outputs": [
        {
          "output_type": "stream",
          "name": "stdout",
          "text": [
            "Model: \"sequential_1\"\n",
            "_________________________________________________________________\n",
            " Layer (type)                Output Shape              Param #   \n",
            "=================================================================\n",
            " embedding_1 (Embedding)     (None, 3, 256)            256000    \n",
            "                                                                 \n",
            " simple_rnn_2 (SimpleRNN)    (None, 3, 128)            49280     \n",
            "                                                                 \n",
            " simple_rnn_3 (SimpleRNN)    (None, 64)                12352     \n",
            "                                                                 \n",
            " dense_1 (Dense)             (None, 1000)              65000     \n",
            "                                                                 \n",
            "=================================================================\n",
            "Total params: 382,632\n",
            "Trainable params: 382,632\n",
            "Non-trainable params: 0\n",
            "_________________________________________________________________\n"
          ]
        }
      ]
    },
    {
      "cell_type": "code",
      "source": [
        "model.compile(loss='categorical_crossentropy', metrics=['accuracy'], optimizer='adam')"
      ],
      "metadata": {
        "id": "cn0ETVEZjmcr"
      },
      "execution_count": null,
      "outputs": []
    },
    {
      "cell_type": "code",
      "source": [
        "history = model.fit(X, Y, batch_size=32, epochs=50)"
      ],
      "metadata": {
        "colab": {
          "base_uri": "https://localhost:8080/"
        },
        "id": "UhYPFLMjjndi",
        "outputId": "d14135cb-b21e-4c28-8474-ef5150cfa598"
      },
      "execution_count": null,
      "outputs": [
        {
          "output_type": "stream",
          "name": "stdout",
          "text": [
            "Epoch 1/50\n",
            "31/31 [==============================] - 2s 8ms/step - loss: 6.8746 - accuracy: 0.0264\n",
            "Epoch 2/50\n",
            "31/31 [==============================] - 0s 8ms/step - loss: 6.2264 - accuracy: 0.0396\n",
            "Epoch 3/50\n",
            "31/31 [==============================] - 0s 7ms/step - loss: 5.8118 - accuracy: 0.0426\n",
            "Epoch 4/50\n",
            "31/31 [==============================] - 0s 7ms/step - loss: 5.5177 - accuracy: 0.0862\n",
            "Epoch 5/50\n",
            "31/31 [==============================] - 0s 7ms/step - loss: 5.1703 - accuracy: 0.1034\n",
            "Epoch 6/50\n",
            "31/31 [==============================] - 0s 7ms/step - loss: 4.8105 - accuracy: 0.1359\n",
            "Epoch 7/50\n",
            "31/31 [==============================] - 0s 7ms/step - loss: 4.4582 - accuracy: 0.2160\n",
            "Epoch 8/50\n",
            "31/31 [==============================] - 0s 7ms/step - loss: 4.1197 - accuracy: 0.2972\n",
            "Epoch 9/50\n",
            "31/31 [==============================] - 0s 8ms/step - loss: 3.7895 - accuracy: 0.3874\n",
            "Epoch 10/50\n",
            "31/31 [==============================] - 0s 7ms/step - loss: 3.4819 - accuracy: 0.4696\n",
            "Epoch 11/50\n",
            "31/31 [==============================] - 0s 8ms/step - loss: 3.1942 - accuracy: 0.5538\n",
            "Epoch 12/50\n",
            "31/31 [==============================] - 0s 7ms/step - loss: 2.9138 - accuracy: 0.5974\n",
            "Epoch 13/50\n",
            "31/31 [==============================] - 0s 8ms/step - loss: 2.6580 - accuracy: 0.6531\n",
            "Epoch 14/50\n",
            "31/31 [==============================] - 0s 8ms/step - loss: 2.4164 - accuracy: 0.7120\n",
            "Epoch 15/50\n",
            "31/31 [==============================] - 0s 8ms/step - loss: 2.1907 - accuracy: 0.7323\n",
            "Epoch 16/50\n",
            "31/31 [==============================] - 0s 8ms/step - loss: 1.9858 - accuracy: 0.7698\n",
            "Epoch 17/50\n",
            "31/31 [==============================] - 0s 9ms/step - loss: 1.7955 - accuracy: 0.8063\n",
            "Epoch 18/50\n",
            "31/31 [==============================] - 0s 8ms/step - loss: 1.6280 - accuracy: 0.8387\n",
            "Epoch 19/50\n",
            "31/31 [==============================] - 0s 8ms/step - loss: 1.4683 - accuracy: 0.8621\n",
            "Epoch 20/50\n",
            "31/31 [==============================] - 0s 7ms/step - loss: 1.3292 - accuracy: 0.8773\n",
            "Epoch 21/50\n",
            "31/31 [==============================] - 0s 7ms/step - loss: 1.1984 - accuracy: 0.8935\n",
            "Epoch 22/50\n",
            "31/31 [==============================] - 0s 7ms/step - loss: 1.0780 - accuracy: 0.9118\n",
            "Epoch 23/50\n",
            "31/31 [==============================] - 0s 7ms/step - loss: 0.9736 - accuracy: 0.9270\n",
            "Epoch 24/50\n",
            "31/31 [==============================] - 0s 7ms/step - loss: 0.8786 - accuracy: 0.9412\n",
            "Epoch 25/50\n",
            "31/31 [==============================] - 0s 8ms/step - loss: 0.7965 - accuracy: 0.9503\n",
            "Epoch 26/50\n",
            "31/31 [==============================] - 0s 7ms/step - loss: 0.7215 - accuracy: 0.9584\n",
            "Epoch 27/50\n",
            "31/31 [==============================] - 0s 8ms/step - loss: 0.6539 - accuracy: 0.9615\n",
            "Epoch 28/50\n",
            "31/31 [==============================] - 0s 8ms/step - loss: 0.5947 - accuracy: 0.9686\n",
            "Epoch 29/50\n",
            "31/31 [==============================] - 0s 7ms/step - loss: 0.5441 - accuracy: 0.9736\n",
            "Epoch 30/50\n",
            "31/31 [==============================] - 0s 7ms/step - loss: 0.4985 - accuracy: 0.9767\n",
            "Epoch 31/50\n",
            "31/31 [==============================] - 0s 6ms/step - loss: 0.4599 - accuracy: 0.9767\n",
            "Epoch 32/50\n",
            "31/31 [==============================] - 0s 7ms/step - loss: 0.4230 - accuracy: 0.9838\n",
            "Epoch 33/50\n",
            "31/31 [==============================] - 0s 7ms/step - loss: 0.3885 - accuracy: 0.9878\n",
            "Epoch 34/50\n",
            "31/31 [==============================] - 0s 7ms/step - loss: 0.3576 - accuracy: 0.9868\n",
            "Epoch 35/50\n",
            "31/31 [==============================] - 0s 7ms/step - loss: 0.3319 - accuracy: 0.9878\n",
            "Epoch 36/50\n",
            "31/31 [==============================] - 0s 7ms/step - loss: 0.3085 - accuracy: 0.9878\n",
            "Epoch 37/50\n",
            "31/31 [==============================] - 0s 7ms/step - loss: 0.2885 - accuracy: 0.9878\n",
            "Epoch 38/50\n",
            "31/31 [==============================] - 0s 6ms/step - loss: 0.2692 - accuracy: 0.9888\n",
            "Epoch 39/50\n",
            "31/31 [==============================] - 0s 8ms/step - loss: 0.2526 - accuracy: 0.9899\n",
            "Epoch 40/50\n",
            "31/31 [==============================] - 0s 8ms/step - loss: 0.2369 - accuracy: 0.9888\n",
            "Epoch 41/50\n",
            "31/31 [==============================] - 0s 7ms/step - loss: 0.2234 - accuracy: 0.9878\n",
            "Epoch 42/50\n",
            "31/31 [==============================] - 0s 7ms/step - loss: 0.2106 - accuracy: 0.9878\n",
            "Epoch 43/50\n",
            "31/31 [==============================] - 0s 7ms/step - loss: 0.1981 - accuracy: 0.9888\n",
            "Epoch 44/50\n",
            "31/31 [==============================] - 0s 8ms/step - loss: 0.1875 - accuracy: 0.9868\n",
            "Epoch 45/50\n",
            "31/31 [==============================] - 0s 7ms/step - loss: 0.1767 - accuracy: 0.9888\n",
            "Epoch 46/50\n",
            "31/31 [==============================] - 0s 7ms/step - loss: 0.1678 - accuracy: 0.9858\n",
            "Epoch 47/50\n",
            "31/31 [==============================] - 0s 8ms/step - loss: 0.1589 - accuracy: 0.9868\n",
            "Epoch 48/50\n",
            "31/31 [==============================] - 0s 7ms/step - loss: 0.1512 - accuracy: 0.9878\n",
            "Epoch 49/50\n",
            "31/31 [==============================] - 0s 7ms/step - loss: 0.1441 - accuracy: 0.9899\n",
            "Epoch 50/50\n",
            "31/31 [==============================] - 0s 7ms/step - loss: 0.1381 - accuracy: 0.9868\n"
          ]
        }
      ]
    },
    {
      "cell_type": "code",
      "source": [
        "def buildPhrase(texts, str_len=20):\n",
        "    res = texts\n",
        "    data = tokenizer.texts_to_sequences([texts])[0]\n",
        "    for i in range(str_len):\n",
        "        x = data[i: i + inp_words] # теперь берем конкретные индексы, а не ОНЕ векторы!!\n",
        "        inp = np.expand_dims(x, axis =0)\n",
        "\n",
        "        pred = model.predict(inp)\n",
        "        indx = pred.argmax(axis=1)[0]\n",
        "        data.append(indx)\n",
        "\n",
        "        res += \" \" + tokenizer.index_word[indx]  # дописываем строку\n",
        "\n",
        "    return res\n",
        "\n",
        "\n",
        "res = buildPhrase(\"Окружите себя позитивными\")\n",
        "print(res)"
      ],
      "metadata": {
        "colab": {
          "base_uri": "https://localhost:8080/"
        },
        "id": "dQksPdCKjpnR",
        "outputId": "f4934ef1-5f77-4147-dd9a-961131753912"
      },
      "execution_count": null,
      "outputs": [
        {
          "output_type": "stream",
          "name": "stdout",
          "text": [
            "1/1 [==============================] - 0s 15ms/step\n",
            "1/1 [==============================] - 0s 18ms/step\n",
            "1/1 [==============================] - 0s 17ms/step\n",
            "1/1 [==============================] - 0s 15ms/step\n",
            "1/1 [==============================] - 0s 18ms/step\n",
            "1/1 [==============================] - 0s 20ms/step\n",
            "1/1 [==============================] - 0s 18ms/step\n",
            "1/1 [==============================] - 0s 16ms/step\n",
            "1/1 [==============================] - 0s 16ms/step\n",
            "1/1 [==============================] - 0s 17ms/step\n",
            "1/1 [==============================] - 0s 16ms/step\n",
            "1/1 [==============================] - 0s 15ms/step\n",
            "1/1 [==============================] - 0s 19ms/step\n",
            "1/1 [==============================] - 0s 15ms/step\n",
            "1/1 [==============================] - 0s 21ms/step\n",
            "1/1 [==============================] - 0s 21ms/step\n",
            "1/1 [==============================] - 0s 15ms/step\n",
            "1/1 [==============================] - 0s 15ms/step\n",
            "1/1 [==============================] - 0s 16ms/step\n",
            "1/1 [==============================] - 0s 15ms/step\n",
            "Окружите себя позитивными людьми которые верят в ваши мечты поддерживают ваши идеи оставайся позитивным прости других инвестируй в себя доверяй своим инстинктам не\n"
          ]
        }
      ]
    }
  ]
}