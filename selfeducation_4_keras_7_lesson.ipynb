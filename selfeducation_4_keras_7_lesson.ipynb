{
  "nbformat": 4,
  "nbformat_minor": 0,
  "metadata": {
    "colab": {
      "provenance": [],
      "collapsed_sections": [],
      "authorship_tag": "ABX9TyNct1qybnxCg1qaAJ7MnqxM",
      "include_colab_link": true
    },
    "kernelspec": {
      "name": "python3",
      "display_name": "Python 3"
    },
    "language_info": {
      "name": "python"
    }
  },
  "cells": [
    {
      "cell_type": "markdown",
      "metadata": {
        "id": "view-in-github",
        "colab_type": "text"
      },
      "source": [
        "<a href=\"https://colab.research.google.com/github/chernoskutov1989dv/Self-Education/blob/main/selfeducation_4_keras_7_lesson.ipynb\" target=\"_parent\"><img src=\"https://colab.research.google.com/assets/colab-badge.svg\" alt=\"Open In Colab\"/></a>"
      ]
    },
    {
      "cell_type": "code",
      "execution_count": null,
      "metadata": {
        "colab": {
          "base_uri": "https://localhost:8080/",
          "height": 320
        },
        "id": "HLaCLoXfqMB6",
        "outputId": "7600413a-699a-44de-910f-32125e031013"
      },
      "outputs": [
        {
          "output_type": "stream",
          "name": "stdout",
          "text": [
            "Обучение завершено\n",
            "[[109.70775]]\n",
            "[array([[2.1022782]], dtype=float32), array([4.593832], dtype=float32)]\n"
          ]
        },
        {
          "output_type": "display_data",
          "data": {
            "text/plain": [
              "<Figure size 432x288 with 1 Axes>"
            ],
            "image/png": "[encoded data removed]"
          },
          "metadata": {
            "needs_background": "light"
          }
        }
      ],
      "source": [
        "import  numpy as np\n",
        "import matplotlib.pyplot as plt\n",
        "\n",
        "from tensorflow import keras\n",
        "\n",
        "from tensorflow.keras.layers import Dense\n",
        "\n",
        "c = np.array ([-40, -10, 0, 8, 15, 22,38])\n",
        "f = np.array ([-40, -14, 32, 46, 59, 72,100])\n",
        "\n",
        "\n",
        "model = keras.Sequential()\n",
        "model.add (Dense ( units=1, input_shape=(1,), activation =\"linear\"))\n",
        "model.compile(loss= \"mean_squared_error\", optimizer = keras.optimizers.Adam(0.01))\n",
        "\n",
        "log = model.fit(c, f, epochs=500, verbose = False)\n",
        "print (\"Обучение завершено\")\n",
        "\n",
        "\n",
        "print (model.predict([50]))\n",
        "print(model.get_weights())\n",
        "\n",
        "plt.plot(log.history[\"loss\"])\n",
        "plt.grid(True)\n",
        "plt.show()\n"
      ]
    }
  ]
}