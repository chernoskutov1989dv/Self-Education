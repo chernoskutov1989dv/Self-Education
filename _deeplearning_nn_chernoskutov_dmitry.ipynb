{
  "nbformat": 4,
  "nbformat_minor": 0,
  "metadata": {
    "colab": {
      "provenance": [],
      "collapsed_sections": [],
      "authorship_tag": "ABX9TyNnWkc1xER3B0U094/fHWng",
      "include_colab_link": true
    },
    "kernelspec": {
      "name": "python3",
      "display_name": "Python 3"
    },
    "language_info": {
      "name": "python"
    }
  },
  "cells": [
    {
      "cell_type": "markdown",
      "metadata": {
        "id": "view-in-github",
        "colab_type": "text"
      },
      "source": [
        "<a href=\"https://colab.research.google.com/github/chernoskutov1989dv/Self-Education/blob/main/_deeplearning_nn_chernoskutov_dmitry.ipynb\" target=\"_parent\"><img src=\"https://colab.research.google.com/assets/colab-badge.svg\" alt=\"Open In Colab\"/></a>"
      ]
    },
    {
      "cell_type": "code",
      "execution_count": null,
      "metadata": {
        "id": "XiN0ObTZUfcU"
      },
      "outputs": [],
      "source": [
        "import numpy as np\n",
        "import matplotlib.pyplot as plt\n",
        "from tensorflow.keras.datasets import mnist\n",
        "from tensorflow import keras\n",
        "from tensorflow.keras.layers import Dense, Flatten, Dropout, Conv2D, MaxPooling2D\n"
      ]
    },
    {
      "cell_type": "code",
      "source": [
        "(x_train, y_train), (x_test, y_test) = mnist.load_data()\n",
        "\n",
        "x_train = x_train/255\n",
        "x_test = x_test/255"
      ],
      "metadata": {
        "colab": {
          "base_uri": "https://localhost:8080/"
        },
        "id": "_DDNtexfUmHm",
        "outputId": "aaef9451-324a-47ff-fc90-7944b584c4cd"
      },
      "execution_count": null,
      "outputs": [
        {
          "output_type": "stream",
          "name": "stdout",
          "text": [
            "Downloading data from https://storage.googleapis.com/tensorflow/tf-keras-datasets/mnist.npz\n",
            "11490434/11490434 [==============================] - 0s 0us/step\n"
          ]
        }
      ]
    },
    {
      "cell_type": "code",
      "source": [
        "y_train_cat = keras.utils.to_categorical(y_train, 10)\n",
        "y_test_cat = keras.utils.to_categorical(y_test, 10)"
      ],
      "metadata": {
        "id": "_qcr5dLAUrB0"
      },
      "execution_count": null,
      "outputs": []
    },
    {
      "cell_type": "code",
      "source": [
        "x_train = np.expand_dims(x_train, axis=3)\n",
        "x_test = np.expand_dims(x_train, axis=3)\n",
        "\n",
        "print (x_train.shape)"
      ],
      "metadata": {
        "colab": {
          "base_uri": "https://localhost:8080/"
        },
        "id": "S_FWQ9xuUtu-",
        "outputId": "ff5e7d35-5e31-4d1a-c11c-5e10e9e67559"
      },
      "execution_count": null,
      "outputs": [
        {
          "output_type": "stream",
          "name": "stdout",
          "text": [
            "(60000, 28, 28, 1)\n"
          ]
        }
      ]
    },
    {
      "cell_type": "code",
      "source": [
        "model = keras.Sequential ([\n",
        "    \n",
        "    Conv2D(32, (3,3), padding = \"same\", activation = \"relu\",  input_shape = (28, 28,1)),\n",
        "    MaxPooling2D((2,2), strides=2),\n",
        "    Conv2D(64, (3,3), padding = \"same\", activation = \"relu\"), \n",
        "    MaxPooling2D((2,2), strides = 2),\n",
        "\n",
        "\n",
        "    Flatten (),\n",
        "    Dense (128, activation = \"relu\"),\n",
        "    \n",
        "    Dense (10, activation = \"softmax\")\n",
        "\n",
        "])"
      ],
      "metadata": {
        "id": "VyM4S7jJUvb0"
      },
      "execution_count": null,
      "outputs": []
    },
    {
      "cell_type": "code",
      "source": [
        "print (model.summary ())"
      ],
      "metadata": {
        "colab": {
          "base_uri": "https://localhost:8080/"
        },
        "id": "tEIh2TXCUyWD",
        "outputId": "4c9950d1-7cc0-4167-f255-1e53e9f799fb"
      },
      "execution_count": null,
      "outputs": [
        {
          "output_type": "stream",
          "name": "stdout",
          "text": [
            "Model: \"sequential\"\n",
            "_________________________________________________________________\n",
            " Layer (type)                Output Shape              Param #   \n",
            "=================================================================\n",
            " conv2d (Conv2D)             (None, 28, 28, 32)        320       \n",
            "                                                                 \n",
            " max_pooling2d (MaxPooling2D  (None, 14, 14, 32)       0         \n",
            " )                                                               \n",
            "                                                                 \n",
            " conv2d_1 (Conv2D)           (None, 14, 14, 64)        18496     \n",
            "                                                                 \n",
            " max_pooling2d_1 (MaxPooling  (None, 7, 7, 64)         0         \n",
            " 2D)                                                             \n",
            "                                                                 \n",
            " flatten (Flatten)           (None, 3136)              0         \n",
            "                                                                 \n",
            " dense (Dense)               (None, 128)               401536    \n",
            "                                                                 \n",
            " dense_1 (Dense)             (None, 10)                1290      \n",
            "                                                                 \n",
            "=================================================================\n",
            "Total params: 421,642\n",
            "Trainable params: 421,642\n",
            "Non-trainable params: 0\n",
            "_________________________________________________________________\n",
            "None\n"
          ]
        }
      ]
    },
    {
      "cell_type": "code",
      "source": [
        "model.compile(optimizer = \"adam\", \n",
        "             loss = \"categorical_crossentropy\",\n",
        "             metrics = [\"accuracy\"])\n"
      ],
      "metadata": {
        "id": "A6XY_mY1U1KU"
      },
      "execution_count": null,
      "outputs": []
    },
    {
      "cell_type": "code",
      "source": [
        "\n",
        "his = model.fit(x_train, y_train_cat, batch_size=32, epochs=5, validation_split=0.2)\n"
      ],
      "metadata": {
        "colab": {
          "base_uri": "https://localhost:8080/"
        },
        "id": "nfzMmDSTU4Fr",
        "outputId": "a202e16b-4b02-4f8c-bcb2-819e8a1da6ef"
      },
      "execution_count": null,
      "outputs": [
        {
          "output_type": "stream",
          "name": "stdout",
          "text": [
            "Epoch 1/5\n",
            "1500/1500 [==============================] - 63s 42ms/step - loss: 0.1434 - accuracy: 0.9558 - val_loss: 0.0481 - val_accuracy: 0.9863\n",
            "Epoch 2/5\n",
            "1500/1500 [==============================] - 60s 40ms/step - loss: 0.0447 - accuracy: 0.9861 - val_loss: 0.0436 - val_accuracy: 0.9881\n",
            "Epoch 3/5\n",
            "1500/1500 [==============================] - 61s 41ms/step - loss: 0.0300 - accuracy: 0.9906 - val_loss: 0.0381 - val_accuracy: 0.9889\n",
            "Epoch 4/5\n",
            "1500/1500 [==============================] - 61s 40ms/step - loss: 0.0220 - accuracy: 0.9927 - val_loss: 0.0332 - val_accuracy: 0.9903\n",
            "Epoch 5/5\n",
            "1500/1500 [==============================] - 60s 40ms/step - loss: 0.0154 - accuracy: 0.9950 - val_loss: 0.0375 - val_accuracy: 0.9912\n"
          ]
        }
      ]
    }
  ]
}