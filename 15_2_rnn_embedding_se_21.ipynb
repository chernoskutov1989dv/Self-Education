{
  "nbformat": 4,
  "nbformat_minor": 0,
  "metadata": {
    "colab": {
      "provenance": [],
      "collapsed_sections": [],
      "authorship_tag": "ABX9TyOXid8UV1EE7KuWnqdsFgUh",
      "include_colab_link": true
    },
    "kernelspec": {
      "name": "python3",
      "display_name": "Python 3"
    },
    "language_info": {
      "name": "python"
    }
  },
  "cells": [
    {
      "cell_type": "markdown",
      "metadata": {
        "id": "view-in-github",
        "colab_type": "text"
      },
      "source": [
        "<a href=\"https://colab.research.google.com/github/chernoskutov1989dv/Self-Education/blob/main/15_2_rnn_embedding_se_21.ipynb\" target=\"_parent\"><img src=\"https://colab.research.google.com/assets/colab-badge.svg\" alt=\"Open In Colab\"/></a>"
      ]
    },
    {
      "cell_type": "code",
      "execution_count": null,
      "metadata": {
        "id": "25tUxZXGo4sk"
      },
      "outputs": [],
      "source": [
        "import numpy as np\n",
        "\n",
        "from tensorflow.keras.layers import Dense, SimpleRNN, Input, Embedding  # Embedding отсекает ненужные связи(нули), оптимизируя обьем памяти\n",
        "from tensorflow.keras.models import Sequential\n",
        "from tensorflow.keras.preprocessing.text import Tokenizer, text_to_word_sequence\n",
        "from tensorflow.keras.utils import to_categorical"
      ]
    },
    {
      "cell_type": "code",
      "source": [
        "open (\"/content/train_data_true.txt\")"
      ],
      "metadata": {
        "colab": {
          "base_uri": "https://localhost:8080/"
        },
        "id": "mcT0HIjTpCIe",
        "outputId": "b9be0a1a-f2b1-4fdc-da9d-915801ef1b13"
      },
      "execution_count": null,
      "outputs": [
        {
          "output_type": "execute_result",
          "data": {
            "text/plain": [
              "<_io.TextIOWrapper name='/content/train_data_true.txt' mode='r' encoding='UTF-8'>"
            ]
          },
          "metadata": {},
          "execution_count": 18
        }
      ]
    },
    {
      "cell_type": "code",
      "source": [
        "\n",
        "with open('train_data_true.txt', 'r', encoding='utf-8') as f:\n",
        "    texts = f.read()\n",
        "    texts = texts.replace('\\ufeff', '')  # убираем первый невидимый символ\n"
      ],
      "metadata": {
        "id": "m40Ii5LbpEEr"
      },
      "execution_count": null,
      "outputs": []
    },
    {
      "cell_type": "code",
      "source": [
        "maxWordsCount = 1000\n",
        "tokenizer = Tokenizer(num_words=maxWordsCount, filters='!–\"—#$%&amp;()*+,-./:;<=>?@[\\\\]^_`{|}~\\t\\n\\r«»',\n",
        "                      lower=True, split=' ', char_level=False)\n",
        "tokenizer.fit_on_texts([texts])\n",
        "\n",
        "dist = list(tokenizer.word_counts.items())\n",
        "print(dist[:10])\n",
        "\n",
        "\n"
      ],
      "metadata": {
        "colab": {
          "base_uri": "https://localhost:8080/"
        },
        "id": "WSvtZk07ptSI",
        "outputId": "50ea9ff6-e641-4051-e6c8-8b4255774fbb"
      },
      "execution_count": null,
      "outputs": [
        {
          "output_type": "stream",
          "name": "stdout",
          "text": [
            "[('думайте', 1), ('позитивно', 4), ('и', 29), ('верьте', 3), ('в', 23), ('свою', 3), ('способность', 1), ('достигать', 1), ('отличных', 1), ('результатов', 1)]\n"
          ]
        }
      ]
    },
    {
      "cell_type": "code",
      "source": [
        "data = tokenizer.texts_to_sequences([texts])\n",
        "#res = to_categorical(data[0], num_classes=maxWordsCount)\n",
        "#print(res.shape)\n",
        "\n",
        "res = np.array( data[0] )\n",
        "\n",
        "inp_words = 3\n",
        "n = res.shape[0] - inp_words\n",
        "\n",
        "X = np.array([res[i:i + inp_words] for i in range(n)])  # теперь это набор чисел!!\n",
        "Y = to_categorical(res[inp_words:], num_classes=maxWordsCount)\n",
        "\n"
      ],
      "metadata": {
        "id": "ZDi3o9wfpt84"
      },
      "execution_count": null,
      "outputs": []
    },
    {
      "cell_type": "code",
      "source": [
        "model = Sequential()\n",
        "model.add(Embedding(maxWordsCount, 256, input_length = inp_words))  # Embedding слой должен быть первым!! \n",
        "#model.add(Input((inp_words, maxWordsCount)))\n",
        "model.add(SimpleRNN(128, activation='tanh'))  # 1ый рекуррентный слой\n",
        "model.add(Dense(maxWordsCount, activation='softmax'))\n",
        "model.summary()\n"
      ],
      "metadata": {
        "colab": {
          "base_uri": "https://localhost:8080/"
        },
        "id": "pppAD0cgpyp6",
        "outputId": "78af8947-dfc4-4b0f-cda8-ad6b7d724032"
      },
      "execution_count": null,
      "outputs": [
        {
          "output_type": "stream",
          "name": "stdout",
          "text": [
            "Model: \"sequential\"\n",
            "_________________________________________________________________\n",
            " Layer (type)                Output Shape              Param #   \n",
            "=================================================================\n",
            " embedding (Embedding)       (None, 3, 256)            256000    \n",
            "                                                                 \n",
            " simple_rnn (SimpleRNN)      (None, 128)               49280     \n",
            "                                                                 \n",
            " dense (Dense)               (None, 1000)              129000    \n",
            "                                                                 \n",
            "=================================================================\n",
            "Total params: 434,280\n",
            "Trainable params: 434,280\n",
            "Non-trainable params: 0\n",
            "_________________________________________________________________\n"
          ]
        }
      ]
    },
    {
      "cell_type": "code",
      "source": [
        "model.compile(loss='categorical_crossentropy', metrics=['accuracy'], optimizer='adam')\n"
      ],
      "metadata": {
        "id": "XfOd4D-Lp1pV"
      },
      "execution_count": null,
      "outputs": []
    },
    {
      "cell_type": "code",
      "source": [
        "history = model.fit(X, Y, batch_size=32, epochs=50)"
      ],
      "metadata": {
        "colab": {
          "base_uri": "https://localhost:8080/"
        },
        "id": "yXes1tf-p3jl",
        "outputId": "e89dac15-46d9-47a1-d877-110b2cb717a5"
      },
      "execution_count": null,
      "outputs": [
        {
          "output_type": "stream",
          "name": "stdout",
          "text": [
            "Epoch 1/50\n",
            "31/31 [==============================] - 0s 11ms/step - loss: 0.0413 - accuracy: 0.9888\n",
            "Epoch 2/50\n",
            "31/31 [==============================] - 0s 11ms/step - loss: 0.0399 - accuracy: 0.9888\n",
            "Epoch 3/50\n",
            "31/31 [==============================] - 0s 11ms/step - loss: 0.0387 - accuracy: 0.9878\n",
            "Epoch 4/50\n",
            "31/31 [==============================] - 0s 11ms/step - loss: 0.0375 - accuracy: 0.9909\n",
            "Epoch 5/50\n",
            "31/31 [==============================] - 0s 12ms/step - loss: 0.0365 - accuracy: 0.9899\n",
            "Epoch 6/50\n",
            "31/31 [==============================] - 0s 12ms/step - loss: 0.0362 - accuracy: 0.9878\n",
            "Epoch 7/50\n",
            "31/31 [==============================] - 0s 11ms/step - loss: 0.0345 - accuracy: 0.9878\n",
            "Epoch 8/50\n",
            "31/31 [==============================] - 0s 12ms/step - loss: 0.0341 - accuracy: 0.9878\n",
            "Epoch 9/50\n",
            "31/31 [==============================] - 0s 12ms/step - loss: 0.0340 - accuracy: 0.9888\n",
            "Epoch 10/50\n",
            "31/31 [==============================] - 0s 11ms/step - loss: 0.0320 - accuracy: 0.9909\n",
            "Epoch 11/50\n",
            "31/31 [==============================] - 0s 11ms/step - loss: 0.0315 - accuracy: 0.9888\n",
            "Epoch 12/50\n",
            "31/31 [==============================] - 0s 11ms/step - loss: 0.0309 - accuracy: 0.9888\n",
            "Epoch 13/50\n",
            "31/31 [==============================] - 0s 11ms/step - loss: 0.0312 - accuracy: 0.9858\n",
            "Epoch 14/50\n",
            "31/31 [==============================] - 0s 11ms/step - loss: 0.0298 - accuracy: 0.9878\n",
            "Epoch 15/50\n",
            "31/31 [==============================] - 0s 11ms/step - loss: 0.0288 - accuracy: 0.9888\n",
            "Epoch 16/50\n",
            "31/31 [==============================] - 0s 12ms/step - loss: 0.0284 - accuracy: 0.9878\n",
            "Epoch 17/50\n",
            "31/31 [==============================] - 0s 12ms/step - loss: 0.0295 - accuracy: 0.9888\n",
            "Epoch 18/50\n",
            "31/31 [==============================] - 0s 11ms/step - loss: 0.0288 - accuracy: 0.9899\n",
            "Epoch 19/50\n",
            "31/31 [==============================] - 0s 11ms/step - loss: 0.0272 - accuracy: 0.9878\n",
            "Epoch 20/50\n",
            "31/31 [==============================] - 0s 11ms/step - loss: 0.0266 - accuracy: 0.9888\n",
            "Epoch 21/50\n",
            "31/31 [==============================] - 0s 11ms/step - loss: 0.0272 - accuracy: 0.9878\n",
            "Epoch 22/50\n",
            "31/31 [==============================] - 0s 11ms/step - loss: 0.0257 - accuracy: 0.9858\n",
            "Epoch 23/50\n",
            "31/31 [==============================] - 0s 12ms/step - loss: 0.0258 - accuracy: 0.9888\n",
            "Epoch 24/50\n",
            "31/31 [==============================] - 0s 11ms/step - loss: 0.0248 - accuracy: 0.9899\n",
            "Epoch 25/50\n",
            "31/31 [==============================] - 0s 12ms/step - loss: 0.0252 - accuracy: 0.9899\n",
            "Epoch 26/50\n",
            "31/31 [==============================] - 0s 11ms/step - loss: 0.0244 - accuracy: 0.9919\n",
            "Epoch 27/50\n",
            "31/31 [==============================] - 0s 11ms/step - loss: 0.0248 - accuracy: 0.9888\n",
            "Epoch 28/50\n",
            "31/31 [==============================] - 0s 11ms/step - loss: 0.0247 - accuracy: 0.9878\n",
            "Epoch 29/50\n",
            "31/31 [==============================] - 0s 11ms/step - loss: 0.0235 - accuracy: 0.9888\n",
            "Epoch 30/50\n",
            "31/31 [==============================] - 0s 12ms/step - loss: 0.0239 - accuracy: 0.9888\n",
            "Epoch 31/50\n",
            "31/31 [==============================] - 0s 11ms/step - loss: 0.0224 - accuracy: 0.9888\n",
            "Epoch 32/50\n",
            "31/31 [==============================] - 0s 11ms/step - loss: 0.0234 - accuracy: 0.9899\n",
            "Epoch 33/50\n",
            "31/31 [==============================] - 0s 12ms/step - loss: 0.0228 - accuracy: 0.9899\n",
            "Epoch 34/50\n",
            "31/31 [==============================] - 0s 11ms/step - loss: 0.0216 - accuracy: 0.9888\n",
            "Epoch 35/50\n",
            "31/31 [==============================] - 0s 11ms/step - loss: 0.0219 - accuracy: 0.9888\n",
            "Epoch 36/50\n",
            "31/31 [==============================] - 0s 11ms/step - loss: 0.0223 - accuracy: 0.9868\n",
            "Epoch 37/50\n",
            "31/31 [==============================] - 0s 11ms/step - loss: 0.0215 - accuracy: 0.9878\n",
            "Epoch 38/50\n",
            "31/31 [==============================] - 0s 11ms/step - loss: 0.0217 - accuracy: 0.9899\n",
            "Epoch 39/50\n",
            "31/31 [==============================] - 0s 11ms/step - loss: 0.0217 - accuracy: 0.9868\n",
            "Epoch 40/50\n",
            "31/31 [==============================] - 0s 11ms/step - loss: 0.0213 - accuracy: 0.9899\n",
            "Epoch 41/50\n",
            "31/31 [==============================] - 0s 10ms/step - loss: 0.0212 - accuracy: 0.9899\n",
            "Epoch 42/50\n",
            "31/31 [==============================] - 0s 11ms/step - loss: 0.0201 - accuracy: 0.9899\n",
            "Epoch 43/50\n",
            "31/31 [==============================] - 0s 11ms/step - loss: 0.0211 - accuracy: 0.9899\n",
            "Epoch 44/50\n",
            "31/31 [==============================] - 0s 11ms/step - loss: 0.0200 - accuracy: 0.9888\n",
            "Epoch 45/50\n",
            "31/31 [==============================] - 0s 12ms/step - loss: 0.0207 - accuracy: 0.9878\n",
            "Epoch 46/50\n",
            "31/31 [==============================] - 0s 11ms/step - loss: 0.0201 - accuracy: 0.9888\n",
            "Epoch 47/50\n",
            "31/31 [==============================] - 0s 11ms/step - loss: 0.0200 - accuracy: 0.9888\n",
            "Epoch 48/50\n",
            "31/31 [==============================] - 0s 11ms/step - loss: 0.0200 - accuracy: 0.9878\n",
            "Epoch 49/50\n",
            "31/31 [==============================] - 0s 11ms/step - loss: 0.0197 - accuracy: 0.9899\n",
            "Epoch 50/50\n",
            "31/31 [==============================] - 0s 11ms/step - loss: 0.0195 - accuracy: 0.9888\n"
          ]
        }
      ]
    },
    {
      "cell_type": "code",
      "source": [
        "def buildPhrase(texts, str_len=20):\n",
        "    res = texts\n",
        "    data = tokenizer.texts_to_sequences([texts])[0]\n",
        "    for i in range(str_len):\n",
        "        x = data[i: i + inp_words] # теперь берем конкретные индексы, а не ОНЕ векторы!!\n",
        "        inp = np.expand_dims(x, axis =0)\n",
        "\n",
        "        pred = model.predict(inp)\n",
        "        indx = pred.argmax(axis=1)[0]\n",
        "        data.append(indx)\n",
        "\n",
        "        res += \" \" + tokenizer.index_word[indx]  # дописываем строку\n",
        "\n",
        "    return res\n",
        "\n",
        "\n",
        "res = buildPhrase(\"Хорошее настроение добавляет\")\n",
        "print(res)\n"
      ],
      "metadata": {
        "colab": {
          "base_uri": "https://localhost:8080/"
        },
        "id": "RxSNaaKwp5YE",
        "outputId": "3e5e9b87-0bc6-4703-bff7-74b0806f39dd"
      },
      "execution_count": null,
      "outputs": [
        {
          "output_type": "stream",
          "name": "stdout",
          "text": [
            "1/1 [==============================] - 0s 147ms/step\n",
            "1/1 [==============================] - 0s 19ms/step\n",
            "1/1 [==============================] - 0s 19ms/step\n",
            "1/1 [==============================] - 0s 21ms/step\n",
            "1/1 [==============================] - 0s 18ms/step\n",
            "1/1 [==============================] - 0s 22ms/step\n",
            "1/1 [==============================] - 0s 17ms/step\n",
            "1/1 [==============================] - 0s 20ms/step\n",
            "1/1 [==============================] - 0s 19ms/step\n",
            "1/1 [==============================] - 0s 18ms/step\n",
            "1/1 [==============================] - 0s 22ms/step\n",
            "1/1 [==============================] - 0s 19ms/step\n",
            "1/1 [==============================] - 0s 19ms/step\n",
            "1/1 [==============================] - 0s 19ms/step\n",
            "1/1 [==============================] - 0s 19ms/step\n",
            "1/1 [==============================] - 0s 20ms/step\n",
            "1/1 [==============================] - 0s 20ms/step\n",
            "1/1 [==============================] - 0s 20ms/step\n",
            "1/1 [==============================] - 0s 21ms/step\n",
            "1/1 [==============================] - 0s 22ms/step\n",
            "Хорошее настроение добавляет годы к вашей жизни весну к вашему шагу искорку в ваших глазах природные способности важны но вы можете многого достичь\n"
          ]
        }
      ]
    }
  ]
}