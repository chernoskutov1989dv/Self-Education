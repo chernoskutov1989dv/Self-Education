{
  "nbformat": 4,
  "nbformat_minor": 0,
  "metadata": {
    "colab": {
      "provenance": [],
      "collapsed_sections": [],
      "authorship_tag": "ABX9TyM0CA2FVtmOA06k2a3tBvH5",
      "include_colab_link": true
    },
    "kernelspec": {
      "name": "python3",
      "display_name": "Python 3"
    },
    "language_info": {
      "name": "python"
    }
  },
  "cells": [
    {
      "cell_type": "markdown",
      "metadata": {
        "id": "view-in-github",
        "colab_type": "text"
      },
      "source": [
        "<a href=\"https://colab.research.google.com/github/chernoskutov1989dv/Self-Education/blob/main/15_1_rnn_embedding_se_21_version_1.ipynb\" target=\"_parent\"><img src=\"https://colab.research.google.com/assets/colab-badge.svg\" alt=\"Open In Colab\"/></a>"
      ]
    },
    {
      "cell_type": "code",
      "execution_count": null,
      "metadata": {
        "id": "emo6xXkZPaf3"
      },
      "outputs": [],
      "source": [
        "import numpy as np\n",
        "\n",
        "from tensorflow.keras.layers import Dense, SimpleRNN, Input\n",
        "from tensorflow.keras.preprocessing.text import Tokenizer, text_to_word_sequence\n",
        "from tensorflow.keras.utils import to_categorical"
      ]
    },
    {
      "cell_type": "code",
      "source": [
        "open (\"/content/train_data_true.txt\")"
      ],
      "metadata": {
        "colab": {
          "base_uri": "https://localhost:8080/"
        },
        "id": "epBN5F3mPhU-",
        "outputId": "4461ea00-a5cc-49bf-856d-8ffd611dd7bb"
      },
      "execution_count": null,
      "outputs": [
        {
          "output_type": "execute_result",
          "data": {
            "text/plain": [
              "<_io.TextIOWrapper name='/content/train_data_true.txt' mode='r' encoding='UTF-8'>"
            ]
          },
          "metadata": {},
          "execution_count": 35
        }
      ]
    },
    {
      "cell_type": "code",
      "source": [
        "\n",
        "with open('train_data_true.txt', 'r', encoding='utf-8') as f:\n",
        "    texts = f.read()\n",
        "    texts = texts.replace('\\ufeff', '')  # убираем первый невидимый символ"
      ],
      "metadata": {
        "id": "M8amxUaUPsB3"
      },
      "execution_count": null,
      "outputs": []
    },
    {
      "cell_type": "code",
      "source": [
        "maxWordsCount = 1000\n",
        "tokenizer = Tokenizer(num_words=maxWordsCount, filters='!–\"—#$%&amp;()*+,-./:;<=>?@[\\\\]^_`{|}~\\t\\n\\r«»',\n",
        "                      lower=True, split=' ', char_level=False)\n",
        "tokenizer.fit_on_texts([texts])\n",
        "\n",
        "dist = list(tokenizer.word_counts.items())\n",
        "print(dist[:10])\n"
      ],
      "metadata": {
        "colab": {
          "base_uri": "https://localhost:8080/"
        },
        "id": "acAaSoRTP2sP",
        "outputId": "56275aa5-048f-4d7d-d8a9-dc5c34bddd53"
      },
      "execution_count": null,
      "outputs": [
        {
          "output_type": "stream",
          "name": "stdout",
          "text": [
            "[('думайте', 1), ('позитивно', 4), ('и', 29), ('верьте', 3), ('в', 23), ('свою', 3), ('способность', 1), ('достигать', 1), ('отличных', 1), ('результатов', 1)]\n"
          ]
        }
      ]
    },
    {
      "cell_type": "code",
      "source": [
        "data = tokenizer.texts_to_sequences([texts])\n",
        "res = to_categorical(data[0], num_classes=maxWordsCount)\n",
        "print(res.shape)\n",
        "\n",
        "inp_words = 3\n",
        "n = res.shape[0] - inp_words\n",
        "\n",
        "X = np.array([res[i:i + inp_words] for i in range(n)])  \n",
        "Y = res[inp_words:]\n"
      ],
      "metadata": {
        "colab": {
          "base_uri": "https://localhost:8080/"
        },
        "id": "gBHlZ0yhP4sP",
        "outputId": "295df5ff-9180-4c86-e85b-5abf0f2f1bd1"
      },
      "execution_count": null,
      "outputs": [
        {
          "output_type": "stream",
          "name": "stdout",
          "text": [
            "(989, 1000)\n"
          ]
        }
      ]
    },
    {
      "cell_type": "code",
      "source": [
        "model = Sequential()\n",
        "model.add(Input((inp_words, maxWordsCount)))\n",
        "model.add(SimpleRNN(128, activation='tanh'))  # 1ый рекуррентный слой\n",
        "model.add(Dense(maxWordsCount, activation='softmax'))\n",
        "model.summary()"
      ],
      "metadata": {
        "colab": {
          "base_uri": "https://localhost:8080/"
        },
        "id": "Jf4yMknKP87f",
        "outputId": "b7dbce65-53ba-47c3-e6a9-a44872561c2d"
      },
      "execution_count": null,
      "outputs": [
        {
          "output_type": "stream",
          "name": "stdout",
          "text": [
            "Model: \"sequential_3\"\n",
            "_________________________________________________________________\n",
            " Layer (type)                Output Shape              Param #   \n",
            "=================================================================\n",
            " simple_rnn_3 (SimpleRNN)    (None, 128)               144512    \n",
            "                                                                 \n",
            " dense_3 (Dense)             (None, 1000)              129000    \n",
            "                                                                 \n",
            "=================================================================\n",
            "Total params: 273,512\n",
            "Trainable params: 273,512\n",
            "Non-trainable params: 0\n",
            "_________________________________________________________________\n"
          ]
        }
      ]
    },
    {
      "cell_type": "code",
      "source": [
        "model.compile(loss='categorical_crossentropy', metrics=['accuracy'], optimizer='adam')"
      ],
      "metadata": {
        "id": "TKeo_FGtQALP"
      },
      "execution_count": null,
      "outputs": []
    },
    {
      "cell_type": "code",
      "source": [
        "history = model.fit(X, Y, batch_size=32, epochs=50)"
      ],
      "metadata": {
        "colab": {
          "base_uri": "https://localhost:8080/"
        },
        "id": "WiiI5LTPQCsP",
        "outputId": "74b96efb-ea75-4e66-ab4b-4b62d29ad191"
      },
      "execution_count": null,
      "outputs": [
        {
          "output_type": "stream",
          "name": "stdout",
          "text": [
            "Epoch 1/50\n",
            "31/31 [==============================] - 2s 31ms/step - loss: 6.8924 - accuracy: 0.0162\n",
            "Epoch 2/50\n",
            "31/31 [==============================] - 1s 32ms/step - loss: 6.3867 - accuracy: 0.0396\n",
            "Epoch 3/50\n",
            "31/31 [==============================] - 1s 44ms/step - loss: 5.8570 - accuracy: 0.0548\n",
            "Epoch 4/50\n",
            "31/31 [==============================] - 1s 45ms/step - loss: 5.6639 - accuracy: 0.0416\n",
            "Epoch 5/50\n",
            "31/31 [==============================] - 1s 35ms/step - loss: 5.5032 - accuracy: 0.0507\n",
            "Epoch 6/50\n",
            "31/31 [==============================] - 1s 39ms/step - loss: 5.3285 - accuracy: 0.0700\n",
            "Epoch 7/50\n",
            "31/31 [==============================] - 1s 36ms/step - loss: 5.1008 - accuracy: 0.0943\n",
            "Epoch 8/50\n",
            "31/31 [==============================] - 1s 31ms/step - loss: 4.8256 - accuracy: 0.1420\n",
            "Epoch 9/50\n",
            "31/31 [==============================] - 1s 33ms/step - loss: 4.4740 - accuracy: 0.2008\n",
            "Epoch 10/50\n",
            "31/31 [==============================] - 1s 37ms/step - loss: 4.0480 - accuracy: 0.2728\n",
            "Epoch 11/50\n",
            "31/31 [==============================] - 1s 39ms/step - loss: 3.5795 - accuracy: 0.3854\n",
            "Epoch 12/50\n",
            "31/31 [==============================] - 1s 26ms/step - loss: 3.1024 - accuracy: 0.5152\n",
            "Epoch 13/50\n",
            "31/31 [==============================] - 1s 47ms/step - loss: 2.6521 - accuracy: 0.6014\n",
            "Epoch 14/50\n",
            "31/31 [==============================] - 1s 32ms/step - loss: 2.2489 - accuracy: 0.6724\n",
            "Epoch 15/50\n",
            "31/31 [==============================] - 1s 31ms/step - loss: 1.8962 - accuracy: 0.7110\n",
            "Epoch 16/50\n",
            "31/31 [==============================] - 1s 43ms/step - loss: 1.6151 - accuracy: 0.7231\n",
            "Epoch 17/50\n",
            "31/31 [==============================] - 1s 33ms/step - loss: 1.3830 - accuracy: 0.7657\n",
            "Epoch 18/50\n",
            "31/31 [==============================] - 1s 39ms/step - loss: 1.2087 - accuracy: 0.8043\n",
            "Epoch 19/50\n",
            "31/31 [==============================] - 1s 38ms/step - loss: 1.0691 - accuracy: 0.8276\n",
            "Epoch 20/50\n",
            "31/31 [==============================] - 1s 42ms/step - loss: 0.9630 - accuracy: 0.8418\n",
            "Epoch 21/50\n",
            "31/31 [==============================] - 1s 28ms/step - loss: 0.8688 - accuracy: 0.8560\n",
            "Epoch 22/50\n",
            "31/31 [==============================] - 1s 32ms/step - loss: 0.7957 - accuracy: 0.8773\n",
            "Epoch 23/50\n",
            "31/31 [==============================] - 1s 35ms/step - loss: 0.7294 - accuracy: 0.8976\n",
            "Epoch 24/50\n",
            "31/31 [==============================] - 1s 32ms/step - loss: 0.6768 - accuracy: 0.9016\n",
            "Epoch 25/50\n",
            "31/31 [==============================] - 1s 27ms/step - loss: 0.6255 - accuracy: 0.9108\n",
            "Epoch 26/50\n",
            "31/31 [==============================] - 1s 31ms/step - loss: 0.5798 - accuracy: 0.9128\n",
            "Epoch 27/50\n",
            "31/31 [==============================] - 1s 31ms/step - loss: 0.5394 - accuracy: 0.9270\n",
            "Epoch 28/50\n",
            "31/31 [==============================] - 1s 31ms/step - loss: 0.5039 - accuracy: 0.9381\n",
            "Epoch 29/50\n",
            "31/31 [==============================] - 1s 34ms/step - loss: 0.4697 - accuracy: 0.9351\n",
            "Epoch 30/50\n",
            "31/31 [==============================] - 1s 33ms/step - loss: 0.4374 - accuracy: 0.9462\n",
            "Epoch 31/50\n",
            "31/31 [==============================] - 1s 27ms/step - loss: 0.4116 - accuracy: 0.9351\n",
            "Epoch 32/50\n",
            "31/31 [==============================] - 1s 27ms/step - loss: 0.3835 - accuracy: 0.9523\n",
            "Epoch 33/50\n",
            "31/31 [==============================] - 1s 26ms/step - loss: 0.3593 - accuracy: 0.9564\n",
            "Epoch 34/50\n",
            "31/31 [==============================] - 1s 27ms/step - loss: 0.3359 - accuracy: 0.9544\n",
            "Epoch 35/50\n",
            "31/31 [==============================] - 1s 30ms/step - loss: 0.3155 - accuracy: 0.9604\n",
            "Epoch 36/50\n",
            "31/31 [==============================] - 1s 27ms/step - loss: 0.2972 - accuracy: 0.9604\n",
            "Epoch 37/50\n",
            "31/31 [==============================] - 1s 28ms/step - loss: 0.2808 - accuracy: 0.9655\n",
            "Epoch 38/50\n",
            "31/31 [==============================] - 1s 29ms/step - loss: 0.2658 - accuracy: 0.9615\n",
            "Epoch 39/50\n",
            "31/31 [==============================] - 1s 35ms/step - loss: 0.2495 - accuracy: 0.9594\n",
            "Epoch 40/50\n",
            "31/31 [==============================] - 1s 30ms/step - loss: 0.2360 - accuracy: 0.9645\n",
            "Epoch 41/50\n",
            "31/31 [==============================] - 1s 32ms/step - loss: 0.2213 - accuracy: 0.9675\n",
            "Epoch 42/50\n",
            "31/31 [==============================] - 1s 39ms/step - loss: 0.2121 - accuracy: 0.9665\n",
            "Epoch 43/50\n",
            "31/31 [==============================] - 1s 39ms/step - loss: 0.2026 - accuracy: 0.9706\n",
            "Epoch 44/50\n",
            "31/31 [==============================] - 1s 34ms/step - loss: 0.1920 - accuracy: 0.9757\n",
            "Epoch 45/50\n",
            "31/31 [==============================] - 1s 36ms/step - loss: 0.1838 - accuracy: 0.9665\n",
            "Epoch 46/50\n",
            "31/31 [==============================] - 1s 30ms/step - loss: 0.1760 - accuracy: 0.9706\n",
            "Epoch 47/50\n",
            "31/31 [==============================] - 1s 35ms/step - loss: 0.1658 - accuracy: 0.9757\n",
            "Epoch 48/50\n",
            "31/31 [==============================] - 1s 35ms/step - loss: 0.1599 - accuracy: 0.9726\n",
            "Epoch 49/50\n",
            "31/31 [==============================] - 1s 43ms/step - loss: 0.1516 - accuracy: 0.9746\n",
            "Epoch 50/50\n",
            "31/31 [==============================] - 1s 38ms/step - loss: 0.1462 - accuracy: 0.9787\n"
          ]
        }
      ]
    },
    {
      "cell_type": "code",
      "source": [
        "def buildPhrase(texts, str_len=20):\n",
        "    res = texts\n",
        "    data = tokenizer.texts_to_sequences([texts])[0]\n",
        "    for i in range(str_len):\n",
        "        x = to_categorical(data[i: i + inp_words], num_classes=maxWordsCount)  # преобразуем в One-Hot-encoding\n",
        "        inp = x.reshape(1, inp_words, maxWordsCount)\n",
        "\n",
        "        pred = model.predict(inp)\n",
        "        indx = pred.argmax(axis=1)[0]\n",
        "        data.append(indx)\n",
        "\n",
        "        res += \" \" + tokenizer.index_word[indx]  # дописываем строку\n",
        "\n",
        "    return res\n",
        "\n",
        "\n",
        "res = buildPhrase(\"позитив добавляет годы\")\n",
        "print(res)\n"
      ],
      "metadata": {
        "colab": {
          "base_uri": "https://localhost:8080/"
        },
        "id": "zs3biyjZQFwe",
        "outputId": "4d4a943c-3ca2-465f-c005-c82cdab320d5"
      },
      "execution_count": null,
      "outputs": [
        {
          "output_type": "stream",
          "name": "stdout",
          "text": [
            "1/1 [==============================] - 0s 147ms/step\n",
            "1/1 [==============================] - 0s 21ms/step\n",
            "1/1 [==============================] - 0s 18ms/step\n",
            "1/1 [==============================] - 0s 18ms/step\n",
            "1/1 [==============================] - 0s 17ms/step\n",
            "1/1 [==============================] - 0s 18ms/step\n",
            "1/1 [==============================] - 0s 19ms/step\n",
            "1/1 [==============================] - 0s 18ms/step\n",
            "1/1 [==============================] - 0s 19ms/step\n",
            "1/1 [==============================] - 0s 18ms/step\n",
            "1/1 [==============================] - 0s 19ms/step\n",
            "1/1 [==============================] - 0s 17ms/step\n",
            "1/1 [==============================] - 0s 24ms/step\n",
            "1/1 [==============================] - 0s 18ms/step\n",
            "1/1 [==============================] - 0s 18ms/step\n",
            "1/1 [==============================] - 0s 22ms/step\n",
            "1/1 [==============================] - 0s 22ms/step\n",
            "1/1 [==============================] - 0s 23ms/step\n",
            "1/1 [==============================] - 0s 21ms/step\n",
            "1/1 [==============================] - 0s 22ms/step\n",
            "позитив добавляет годы счастье вашей жизни и двигаться приверженным все вы это если отношение то в свою большая достигать на которую вы нужно\n"
          ]
        }
      ]
    }
  ]
}