{
  "nbformat": 4,
  "nbformat_minor": 0,
  "metadata": {
    "colab": {
      "provenance": [],
      "collapsed_sections": [],
      "authorship_tag": "ABX9TyOw8jqH50fF6+Le6Alczspv",
      "include_colab_link": true
    },
    "kernelspec": {
      "name": "python3",
      "display_name": "Python 3"
    },
    "language_info": {
      "name": "python"
    }
  },
  "cells": [
    {
      "cell_type": "markdown",
      "metadata": {
        "id": "view-in-github",
        "colab_type": "text"
      },
      "source": [
        "<a href=\"https://colab.research.google.com/github/chernoskutov1989dv/Self-Education/blob/main/15_2_rnn_embedding_se_21_version_12ipynb.ipynb\" target=\"_parent\"><img src=\"https://colab.research.google.com/assets/colab-badge.svg\" alt=\"Open In Colab\"/></a>"
      ]
    },
    {
      "cell_type": "code",
      "execution_count": null,
      "metadata": {
        "id": "yTfng9jCdxl4"
      },
      "outputs": [],
      "source": [
        "import numpy as np\n",
        "\n",
        "from tensorflow.keras.layers import Dense, SimpleRNN, Input, Embedding  # Embedding отсекает ненужные связи(нули), оптимизируя обьем памяти\n",
        "from tensorflow.keras.models import Sequential\n",
        "from tensorflow.keras.preprocessing.text import Tokenizer, text_to_word_sequence\n",
        "from tensorflow.keras.utils import to_categorical"
      ]
    },
    {
      "cell_type": "code",
      "source": [
        "open (\"/content/train_data_true.txt\")"
      ],
      "metadata": {
        "colab": {
          "base_uri": "https://localhost:8080/"
        },
        "id": "Bd5b5OEtdzNn",
        "outputId": "e5b821e9-3391-49b0-f58c-b2e1ce484dd6"
      },
      "execution_count": null,
      "outputs": [
        {
          "output_type": "execute_result",
          "data": {
            "text/plain": [
              "<_io.TextIOWrapper name='/content/train_data_true.txt' mode='r' encoding='UTF-8'>"
            ]
          },
          "metadata": {},
          "execution_count": 22
        }
      ]
    },
    {
      "cell_type": "code",
      "source": [
        "\n",
        "with open('train_data_true.txt', 'r', encoding='utf-8') as f:\n",
        "    texts = f.read()\n",
        "    texts = texts.replace('\\ufeff', '')  # убираем первый невидимый символ"
      ],
      "metadata": {
        "id": "5j6s5dSVd9D4"
      },
      "execution_count": null,
      "outputs": []
    },
    {
      "cell_type": "code",
      "source": [
        "maxWordsCount = 1000\n",
        "tokenizer = Tokenizer(num_words=maxWordsCount, filters='!–\"—#$%&amp;()*+,-./:;<=>?@[\\\\]^_`{|}~\\t\\n\\r«»',\n",
        "                      lower=True, split=' ', char_level=False)\n",
        "tokenizer.fit_on_texts([texts])\n",
        "\n",
        "dist = list(tokenizer.word_counts.items())\n",
        "print(dist[:10])\n"
      ],
      "metadata": {
        "colab": {
          "base_uri": "https://localhost:8080/"
        },
        "id": "BCbCsHtleESl",
        "outputId": "740c2d60-9c7e-402b-9b09-4c558019025c"
      },
      "execution_count": null,
      "outputs": [
        {
          "output_type": "stream",
          "name": "stdout",
          "text": [
            "[('думайте', 1), ('позитивно', 4), ('и', 29), ('верьте', 3), ('в', 23), ('свою', 3), ('способность', 1), ('достигать', 1), ('отличных', 1), ('результатов', 1)]\n"
          ]
        }
      ]
    },
    {
      "cell_type": "code",
      "source": [
        "data = tokenizer.texts_to_sequences([texts])\n",
        "#res = to_categorical(data[0], num_classes=maxWordsCount)\n",
        "#print(res.shape)\n",
        "\n",
        "res = np.array( data[0] )\n",
        "\n",
        "inp_words = 3\n",
        "n = res.shape[0] - inp_words\n",
        "\n",
        "X = np.array([res[i:i + inp_words] for i in range(n)])  # теперь это набор чисел!!\n",
        "Y = to_categorical(res[inp_words:], num_classes=maxWordsCount)\n"
      ],
      "metadata": {
        "id": "5Ijz0SlseG6l"
      },
      "execution_count": null,
      "outputs": []
    },
    {
      "cell_type": "code",
      "source": [
        "model = Sequential()\n",
        "model.add(Embedding(maxWordsCount, 256, input_length = inp_words))  # Embedding слой должен быть первым!! \n",
        "#model.add(Input((inp_words, maxWordsCount)))\n",
        "model.add(SimpleRNN(128, activation='tanh'))  # 1ый рекуррентный слой\n",
        "model.add(Dense(maxWordsCount, activation='softmax'))\n",
        "model.summary()"
      ],
      "metadata": {
        "colab": {
          "base_uri": "https://localhost:8080/"
        },
        "id": "XrPjdQ-4eLI1",
        "outputId": "d6da555d-1a78-4749-c86c-ff20bdcc529d"
      },
      "execution_count": null,
      "outputs": [
        {
          "output_type": "stream",
          "name": "stdout",
          "text": [
            "Model: \"sequential_2\"\n",
            "_________________________________________________________________\n",
            " Layer (type)                Output Shape              Param #   \n",
            "=================================================================\n",
            " embedding_2 (Embedding)     (None, 3, 256)            256000    \n",
            "                                                                 \n",
            " simple_rnn_2 (SimpleRNN)    (None, 128)               49280     \n",
            "                                                                 \n",
            " dense_2 (Dense)             (None, 1000)              129000    \n",
            "                                                                 \n",
            "=================================================================\n",
            "Total params: 434,280\n",
            "Trainable params: 434,280\n",
            "Non-trainable params: 0\n",
            "_________________________________________________________________\n"
          ]
        }
      ]
    },
    {
      "cell_type": "code",
      "source": [
        "model.compile(loss='categorical_crossentropy', metrics=['accuracy'], optimizer='adam')"
      ],
      "metadata": {
        "id": "zaf2fgNseOQG"
      },
      "execution_count": null,
      "outputs": []
    },
    {
      "cell_type": "code",
      "source": [
        "history = model.fit(X, Y, batch_size=32, epochs=50)"
      ],
      "metadata": {
        "colab": {
          "base_uri": "https://localhost:8080/"
        },
        "id": "-MnJf4WQeRQM",
        "outputId": "9625e361-0a6e-479c-dede-fd817aee71ba"
      },
      "execution_count": null,
      "outputs": [
        {
          "output_type": "stream",
          "name": "stdout",
          "text": [
            "Epoch 1/50\n",
            "31/31 [==============================] - 1s 10ms/step - loss: 6.8870 - accuracy: 0.0284\n",
            "Epoch 2/50\n",
            "31/31 [==============================] - 0s 10ms/step - loss: 6.2680 - accuracy: 0.0436\n",
            "Epoch 3/50\n",
            "31/31 [==============================] - 0s 10ms/step - loss: 5.7324 - accuracy: 0.0710\n",
            "Epoch 4/50\n",
            "31/31 [==============================] - 0s 10ms/step - loss: 5.4162 - accuracy: 0.0842\n",
            "Epoch 5/50\n",
            "31/31 [==============================] - 0s 10ms/step - loss: 5.0169 - accuracy: 0.1268\n",
            "Epoch 6/50\n",
            "31/31 [==============================] - 0s 10ms/step - loss: 4.4792 - accuracy: 0.1724\n",
            "Epoch 7/50\n",
            "31/31 [==============================] - 0s 10ms/step - loss: 3.8888 - accuracy: 0.2941\n",
            "Epoch 8/50\n",
            "31/31 [==============================] - 0s 10ms/step - loss: 3.3282 - accuracy: 0.4331\n",
            "Epoch 9/50\n",
            "31/31 [==============================] - 0s 10ms/step - loss: 2.7973 - accuracy: 0.5751\n",
            "Epoch 10/50\n",
            "31/31 [==============================] - 0s 10ms/step - loss: 2.3337 - accuracy: 0.6663\n",
            "Epoch 11/50\n",
            "31/31 [==============================] - 0s 10ms/step - loss: 1.9367 - accuracy: 0.7302\n",
            "Epoch 12/50\n",
            "31/31 [==============================] - 0s 10ms/step - loss: 1.6003 - accuracy: 0.7890\n",
            "Epoch 13/50\n",
            "31/31 [==============================] - 0s 10ms/step - loss: 1.3154 - accuracy: 0.8276\n",
            "Epoch 14/50\n",
            "31/31 [==============================] - 0s 10ms/step - loss: 1.0858 - accuracy: 0.8732\n",
            "Epoch 15/50\n",
            "31/31 [==============================] - 0s 10ms/step - loss: 0.9029 - accuracy: 0.9006\n",
            "Epoch 16/50\n",
            "31/31 [==============================] - 0s 10ms/step - loss: 0.7544 - accuracy: 0.9351\n",
            "Epoch 17/50\n",
            "31/31 [==============================] - 0s 10ms/step - loss: 0.6387 - accuracy: 0.9432\n",
            "Epoch 18/50\n",
            "31/31 [==============================] - 0s 10ms/step - loss: 0.5420 - accuracy: 0.9604\n",
            "Epoch 19/50\n",
            "31/31 [==============================] - 0s 10ms/step - loss: 0.4611 - accuracy: 0.9736\n",
            "Epoch 20/50\n",
            "31/31 [==============================] - 0s 10ms/step - loss: 0.3986 - accuracy: 0.9767\n",
            "Epoch 21/50\n",
            "31/31 [==============================] - 0s 10ms/step - loss: 0.3447 - accuracy: 0.9838\n",
            "Epoch 22/50\n",
            "31/31 [==============================] - 0s 10ms/step - loss: 0.2999 - accuracy: 0.9807\n",
            "Epoch 23/50\n",
            "31/31 [==============================] - 0s 10ms/step - loss: 0.2634 - accuracy: 0.9848\n",
            "Epoch 24/50\n",
            "31/31 [==============================] - 0s 10ms/step - loss: 0.2336 - accuracy: 0.9899\n",
            "Epoch 25/50\n",
            "31/31 [==============================] - 0s 10ms/step - loss: 0.2068 - accuracy: 0.9868\n",
            "Epoch 26/50\n",
            "31/31 [==============================] - 0s 10ms/step - loss: 0.1849 - accuracy: 0.9899\n",
            "Epoch 27/50\n",
            "31/31 [==============================] - 0s 10ms/step - loss: 0.1669 - accuracy: 0.9919\n",
            "Epoch 28/50\n",
            "31/31 [==============================] - 0s 10ms/step - loss: 0.1509 - accuracy: 0.9899\n",
            "Epoch 29/50\n",
            "31/31 [==============================] - 0s 10ms/step - loss: 0.1379 - accuracy: 0.9888\n",
            "Epoch 30/50\n",
            "31/31 [==============================] - 0s 11ms/step - loss: 0.1266 - accuracy: 0.9868\n",
            "Epoch 31/50\n",
            "31/31 [==============================] - 0s 10ms/step - loss: 0.1160 - accuracy: 0.9868\n",
            "Epoch 32/50\n",
            "31/31 [==============================] - 0s 10ms/step - loss: 0.1063 - accuracy: 0.9878\n",
            "Epoch 33/50\n",
            "31/31 [==============================] - 0s 11ms/step - loss: 0.1001 - accuracy: 0.9888\n",
            "Epoch 34/50\n",
            "31/31 [==============================] - 0s 10ms/step - loss: 0.0924 - accuracy: 0.9888\n",
            "Epoch 35/50\n",
            "31/31 [==============================] - 0s 12ms/step - loss: 0.0861 - accuracy: 0.9888\n",
            "Epoch 36/50\n",
            "31/31 [==============================] - 1s 18ms/step - loss: 0.0802 - accuracy: 0.9888\n",
            "Epoch 37/50\n",
            "31/31 [==============================] - 1s 16ms/step - loss: 0.0750 - accuracy: 0.9878\n",
            "Epoch 38/50\n",
            "31/31 [==============================] - 1s 18ms/step - loss: 0.0708 - accuracy: 0.9888\n",
            "Epoch 39/50\n",
            "31/31 [==============================] - 1s 17ms/step - loss: 0.0667 - accuracy: 0.9878\n",
            "Epoch 40/50\n",
            "31/31 [==============================] - 1s 16ms/step - loss: 0.0647 - accuracy: 0.9878\n",
            "Epoch 41/50\n",
            "31/31 [==============================] - 0s 9ms/step - loss: 0.0615 - accuracy: 0.9878\n",
            "Epoch 42/50\n",
            "31/31 [==============================] - 0s 10ms/step - loss: 0.0589 - accuracy: 0.9868\n",
            "Epoch 43/50\n",
            "31/31 [==============================] - 0s 10ms/step - loss: 0.0574 - accuracy: 0.9878\n",
            "Epoch 44/50\n",
            "31/31 [==============================] - 0s 10ms/step - loss: 0.0541 - accuracy: 0.9888\n",
            "Epoch 45/50\n",
            "31/31 [==============================] - 0s 11ms/step - loss: 0.0507 - accuracy: 0.9909\n",
            "Epoch 46/50\n",
            "31/31 [==============================] - 0s 10ms/step - loss: 0.0491 - accuracy: 0.9888\n",
            "Epoch 47/50\n",
            "31/31 [==============================] - 0s 10ms/step - loss: 0.0481 - accuracy: 0.9909\n",
            "Epoch 48/50\n",
            "31/31 [==============================] - 0s 10ms/step - loss: 0.0459 - accuracy: 0.9888\n",
            "Epoch 49/50\n",
            "31/31 [==============================] - 0s 10ms/step - loss: 0.0445 - accuracy: 0.9909\n",
            "Epoch 50/50\n",
            "31/31 [==============================] - 0s 10ms/step - loss: 0.0438 - accuracy: 0.9868\n"
          ]
        }
      ]
    },
    {
      "cell_type": "code",
      "source": [
        "def buildPhrase(texts, str_len=20):\n",
        "    res = texts\n",
        "    data = tokenizer.texts_to_sequences([texts])[0]\n",
        "    for i in range(str_len):\n",
        "        x = data[i: i + inp_words] # теперь берем конкретные индексы, а не ОНЕ векторы!!\n",
        "        inp = np.expand_dims(x, axis =0)\n",
        "\n",
        "        pred = model.predict(inp)\n",
        "        indx = pred.argmax(axis=1)[0]\n",
        "        data.append(indx)\n",
        "\n",
        "        res += \" \" + tokenizer.index_word[indx]  # дописываем строку\n",
        "\n",
        "    return res\n",
        "\n",
        "\n",
        "res = buildPhrase(\"Не просто учись\")\n",
        "print(res)\n",
        "\n"
      ],
      "metadata": {
        "colab": {
          "base_uri": "https://localhost:8080/"
        },
        "id": "dS8xN5_-gcMW",
        "outputId": "9dd43842-62ee-4c51-9fad-71ed90faacf5"
      },
      "execution_count": null,
      "outputs": [
        {
          "output_type": "stream",
          "name": "stdout",
          "text": [
            "1/1 [==============================] - 0s 145ms/step\n",
            "1/1 [==============================] - 0s 17ms/step\n",
            "1/1 [==============================] - 0s 19ms/step\n",
            "1/1 [==============================] - 0s 18ms/step\n",
            "1/1 [==============================] - 0s 20ms/step\n",
            "1/1 [==============================] - 0s 18ms/step\n",
            "1/1 [==============================] - 0s 18ms/step\n",
            "1/1 [==============================] - 0s 18ms/step\n",
            "1/1 [==============================] - 0s 18ms/step\n",
            "1/1 [==============================] - 0s 18ms/step\n",
            "1/1 [==============================] - 0s 19ms/step\n",
            "1/1 [==============================] - 0s 22ms/step\n",
            "1/1 [==============================] - 0s 19ms/step\n",
            "1/1 [==============================] - 0s 18ms/step\n",
            "1/1 [==============================] - 0s 19ms/step\n",
            "1/1 [==============================] - 0s 17ms/step\n",
            "1/1 [==============================] - 0s 18ms/step\n",
            "1/1 [==============================] - 0s 19ms/step\n",
            "1/1 [==============================] - 0s 18ms/step\n",
            "1/1 [==============================] - 0s 20ms/step\n",
            "Не просто учись а приобретай опыт не читай а впитывай не просто меняйся а трансформируйся не просто связывай а защищай не обещай а\n"
          ]
        }
      ]
    }
  ]
}