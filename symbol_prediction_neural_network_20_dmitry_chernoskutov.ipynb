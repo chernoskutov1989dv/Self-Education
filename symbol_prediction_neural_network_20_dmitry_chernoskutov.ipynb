{
  "nbformat": 4,
  "nbformat_minor": 0,
  "metadata": {
    "colab": {
      "provenance": [],
      "collapsed_sections": [],
      "authorship_tag": "ABX9TyNi48H3qWl+QS38q3udiOzv",
      "include_colab_link": true
    },
    "kernelspec": {
      "name": "python3",
      "display_name": "Python 3"
    },
    "language_info": {
      "name": "python"
    }
  },
  "cells": [
    {
      "cell_type": "markdown",
      "metadata": {
        "id": "view-in-github",
        "colab_type": "text"
      },
      "source": [
        "<a href=\"https://colab.research.google.com/github/chernoskutov1989dv/Self-Education/blob/main/symbol_prediction_neural_network_20_dmitry_chernoskutov.ipynb\" target=\"_parent\"><img src=\"https://colab.research.google.com/assets/colab-badge.svg\" alt=\"Open In Colab\"/></a>"
      ]
    },
    {
      "cell_type": "code",
      "execution_count": null,
      "metadata": {
        "id": "HHJwA-dPk422"
      },
      "outputs": [],
      "source": [
        "import numpy as np\n",
        "import re\n",
        "from tensorflow.keras.layers import Dense, SimpleRNN, Input\n",
        "from tensorflow.keras.models import Sequential\n",
        "from tensorflow.keras.optimizers import Adam\n",
        "from tensorflow.keras.preprocessing.text import Tokenizer\n",
        "\n"
      ]
    },
    {
      "cell_type": "code",
      "source": [
        "open (\"/content/train_data_true.txt\")"
      ],
      "metadata": {
        "colab": {
          "base_uri": "https://localhost:8080/"
        },
        "id": "9ZlK_OKtlPZy",
        "outputId": "6ef64e3f-ce59-42c6-864e-5ca1ba554575"
      },
      "execution_count": null,
      "outputs": [
        {
          "output_type": "execute_result",
          "data": {
            "text/plain": [
              "<_io.TextIOWrapper name='/content/train_data_true.txt' mode='r' encoding='UTF-8'>"
            ]
          },
          "metadata": {},
          "execution_count": 18
        }
      ]
    },
    {
      "cell_type": "code",
      "source": [
        "open (\"/content/train_data_false.txt\")"
      ],
      "metadata": {
        "colab": {
          "base_uri": "https://localhost:8080/"
        },
        "id": "GIciqsuhonzp",
        "outputId": "b7055d48-8e73-4898-eb71-fb09ef1d9963"
      },
      "execution_count": null,
      "outputs": [
        {
          "output_type": "execute_result",
          "data": {
            "text/plain": [
              "<_io.TextIOWrapper name='/content/train_data_false.txt' mode='r' encoding='UTF-8'>"
            ]
          },
          "metadata": {},
          "execution_count": 19
        }
      ]
    },
    {
      "cell_type": "code",
      "source": [
        "with open ((\"/content/train_data_true.txt\"), 'r', encoding='utf-8') as f:\n",
        "    text = f.read()\n",
        "    text = text.replace('\\ufeff', '')  # убираем первый невидимый символ\n",
        "    text = re.sub(r'[^А-я ]', '', text)  # заменяем все символы кроме кириллицы на пустые символы\n"
      ],
      "metadata": {
        "id": "8B3rKt5blUHI"
      },
      "execution_count": null,
      "outputs": []
    },
    {
      "cell_type": "code",
      "source": [
        "num_characters = 34 \n",
        "tokenizer = Tokenizer(num_words=num_characters, char_level=True)  # токенизируем на уровне символов\n",
        "tokenizer.fit_on_texts([text])  # формируем токены на основе частотности в нашем тексте\n",
        "    \n",
        "print(tokenizer.word_index)\n"
      ],
      "metadata": {
        "colab": {
          "base_uri": "https://localhost:8080/"
        },
        "id": "b5no6pL7lWiq",
        "outputId": "2a67c3cf-51d9-49cd-992c-5487fa8abe61"
      },
      "execution_count": null,
      "outputs": [
        {
          "output_type": "stream",
          "name": "stdout",
          "text": [
            "{' ': 1, 'о': 2, 'е': 3, 'т': 4, 'и': 5, 'а': 6, 'н': 7, 'с': 8, 'в': 9, 'р': 10, 'м': 11, 'л': 12, 'ь': 13, 'д': 14, 'п': 15, 'у': 16, 'ы': 17, 'з': 18, 'я': 19, 'б': 20, 'ч': 21, 'к': 22, 'й': 23, 'ж': 24, 'г': 25, 'ш': 26, 'х': 27, 'ю': 28, 'ц': 29, 'щ': 30, 'э': 31, 'ф': 32, 'ъ': 33}\n"
          ]
        }
      ]
    },
    {
      "cell_type": "code",
      "source": [
        "inp_chars = 3\n",
        "\n",
        "data = tokenizer.texts_to_matrix(text)  # преобразуем исходный текст в массив OHE\n",
        "\n",
        "n = data.shape[0] - inp_chars\n",
        "\n",
        "X = np.array([data[i: i + inp_chars, :] for i in range(n)])\n",
        "Y = data[inp_chars:]\n",
        "print(data.shape)\n",
        "\n",
        "model = Sequential()\n",
        "\n",
        "model.add(Input((inp_chars, num_characters)))\n",
        "\n",
        "model.add(SimpleRNN (128, activation = \"tanh\"))\n",
        "model.add(Dense(num_characters, activation = \"softmax\"))\n",
        "model.summary()\n"
      ],
      "metadata": {
        "colab": {
          "base_uri": "https://localhost:8080/"
        },
        "id": "mTP8ltE8lbJQ",
        "outputId": "21903154-141a-4948-cef4-7b5bebfe49a8"
      },
      "execution_count": null,
      "outputs": [
        {
          "output_type": "stream",
          "name": "stdout",
          "text": [
            "(6307, 34)\n",
            "Model: \"sequential_2\"\n",
            "_________________________________________________________________\n",
            " Layer (type)                Output Shape              Param #   \n",
            "=================================================================\n",
            " simple_rnn_2 (SimpleRNN)    (None, 128)               20864     \n",
            "                                                                 \n",
            " dense_2 (Dense)             (None, 34)                4386      \n",
            "                                                                 \n",
            "=================================================================\n",
            "Total params: 25,250\n",
            "Trainable params: 25,250\n",
            "Non-trainable params: 0\n",
            "_________________________________________________________________\n"
          ]
        }
      ]
    },
    {
      "cell_type": "code",
      "source": [
        "model.compile(loss='categorical_crossentropy', metrics=['accuracy'], optimizer='adam')"
      ],
      "metadata": {
        "id": "z-XhrSIqlzmv"
      },
      "execution_count": null,
      "outputs": []
    },
    {
      "cell_type": "code",
      "source": [
        "history = model.fit(X, Y, batch_size=32, epochs=100)"
      ],
      "metadata": {
        "colab": {
          "base_uri": "https://localhost:8080/"
        },
        "id": "-IBTehlcl17j",
        "outputId": "c7b7c1c2-23c3-43a2-d301-d967dfc9bfc4"
      },
      "execution_count": null,
      "outputs": [
        {
          "output_type": "stream",
          "name": "stdout",
          "text": [
            "Epoch 1/100\n",
            "197/197 [==============================] - 2s 4ms/step - loss: 2.9467 - accuracy: 0.1946\n",
            "Epoch 2/100\n",
            "197/197 [==============================] - 1s 4ms/step - loss: 2.5923 - accuracy: 0.2720\n",
            "Epoch 3/100\n",
            "197/197 [==============================] - 1s 4ms/step - loss: 2.4235 - accuracy: 0.3100\n",
            "Epoch 4/100\n",
            "197/197 [==============================] - 1s 4ms/step - loss: 2.3225 - accuracy: 0.3309\n",
            "Epoch 5/100\n",
            "197/197 [==============================] - 1s 4ms/step - loss: 2.2510 - accuracy: 0.3512\n",
            "Epoch 6/100\n",
            "197/197 [==============================] - 1s 4ms/step - loss: 2.1996 - accuracy: 0.3542\n",
            "Epoch 7/100\n",
            "197/197 [==============================] - 1s 4ms/step - loss: 2.1659 - accuracy: 0.3622\n",
            "Epoch 8/100\n",
            "197/197 [==============================] - 1s 4ms/step - loss: 2.1362 - accuracy: 0.3687\n",
            "Epoch 9/100\n",
            "197/197 [==============================] - 1s 4ms/step - loss: 2.1100 - accuracy: 0.3731\n",
            "Epoch 10/100\n",
            "197/197 [==============================] - 1s 4ms/step - loss: 2.0870 - accuracy: 0.3809\n",
            "Epoch 11/100\n",
            "197/197 [==============================] - 1s 4ms/step - loss: 2.0684 - accuracy: 0.3842\n",
            "Epoch 12/100\n",
            "197/197 [==============================] - 1s 4ms/step - loss: 2.0447 - accuracy: 0.3847\n",
            "Epoch 13/100\n",
            "197/197 [==============================] - 1s 4ms/step - loss: 2.0255 - accuracy: 0.3923\n",
            "Epoch 14/100\n",
            "197/197 [==============================] - 1s 4ms/step - loss: 2.0068 - accuracy: 0.3964\n",
            "Epoch 15/100\n",
            "197/197 [==============================] - 1s 4ms/step - loss: 1.9872 - accuracy: 0.3977\n",
            "Epoch 16/100\n",
            "197/197 [==============================] - 1s 4ms/step - loss: 1.9657 - accuracy: 0.4056\n",
            "Epoch 17/100\n",
            "197/197 [==============================] - 1s 4ms/step - loss: 1.9494 - accuracy: 0.4129\n",
            "Epoch 18/100\n",
            "197/197 [==============================] - 1s 4ms/step - loss: 1.9304 - accuracy: 0.4129\n",
            "Epoch 19/100\n",
            "197/197 [==============================] - 1s 4ms/step - loss: 1.9123 - accuracy: 0.4202\n",
            "Epoch 20/100\n",
            "197/197 [==============================] - 1s 4ms/step - loss: 1.8941 - accuracy: 0.4245\n",
            "Epoch 21/100\n",
            "197/197 [==============================] - 1s 4ms/step - loss: 1.8805 - accuracy: 0.4240\n",
            "Epoch 22/100\n",
            "197/197 [==============================] - 1s 4ms/step - loss: 1.8580 - accuracy: 0.4280\n",
            "Epoch 23/100\n",
            "197/197 [==============================] - 1s 4ms/step - loss: 1.8403 - accuracy: 0.4321\n",
            "Epoch 24/100\n",
            "197/197 [==============================] - 1s 4ms/step - loss: 1.8238 - accuracy: 0.4394\n",
            "Epoch 25/100\n",
            "197/197 [==============================] - 1s 4ms/step - loss: 1.8112 - accuracy: 0.4497\n",
            "Epoch 26/100\n",
            "197/197 [==============================] - 1s 4ms/step - loss: 1.7948 - accuracy: 0.4499\n",
            "Epoch 27/100\n",
            "197/197 [==============================] - 1s 4ms/step - loss: 1.7773 - accuracy: 0.4569\n",
            "Epoch 28/100\n",
            "197/197 [==============================] - 1s 4ms/step - loss: 1.7622 - accuracy: 0.4654\n",
            "Epoch 29/100\n",
            "197/197 [==============================] - 1s 4ms/step - loss: 1.7504 - accuracy: 0.4575\n",
            "Epoch 30/100\n",
            "197/197 [==============================] - 1s 4ms/step - loss: 1.7262 - accuracy: 0.4703\n",
            "Epoch 31/100\n",
            "197/197 [==============================] - 1s 3ms/step - loss: 1.7211 - accuracy: 0.4697\n",
            "Epoch 32/100\n",
            "197/197 [==============================] - 1s 4ms/step - loss: 1.7005 - accuracy: 0.4705\n",
            "Epoch 33/100\n",
            "197/197 [==============================] - 1s 4ms/step - loss: 1.6892 - accuracy: 0.4800\n",
            "Epoch 34/100\n",
            "197/197 [==============================] - 1s 4ms/step - loss: 1.6731 - accuracy: 0.4816\n",
            "Epoch 35/100\n",
            "197/197 [==============================] - 1s 3ms/step - loss: 1.6623 - accuracy: 0.4800\n",
            "Epoch 36/100\n",
            "197/197 [==============================] - 1s 4ms/step - loss: 1.6433 - accuracy: 0.4911\n",
            "Epoch 37/100\n",
            "197/197 [==============================] - 1s 4ms/step - loss: 1.6385 - accuracy: 0.4908\n",
            "Epoch 38/100\n",
            "197/197 [==============================] - 1s 4ms/step - loss: 1.6256 - accuracy: 0.4921\n",
            "Epoch 39/100\n",
            "197/197 [==============================] - 1s 4ms/step - loss: 1.6115 - accuracy: 0.4990\n",
            "Epoch 40/100\n",
            "197/197 [==============================] - 1s 4ms/step - loss: 1.5990 - accuracy: 0.5033\n",
            "Epoch 41/100\n",
            "197/197 [==============================] - 1s 4ms/step - loss: 1.5876 - accuracy: 0.5043\n",
            "Epoch 42/100\n",
            "197/197 [==============================] - 1s 4ms/step - loss: 1.5769 - accuracy: 0.5068\n",
            "Epoch 43/100\n",
            "197/197 [==============================] - 1s 4ms/step - loss: 1.5635 - accuracy: 0.5100\n",
            "Epoch 44/100\n",
            "197/197 [==============================] - 1s 4ms/step - loss: 1.5525 - accuracy: 0.5092\n",
            "Epoch 45/100\n",
            "197/197 [==============================] - 1s 4ms/step - loss: 1.5391 - accuracy: 0.5170\n",
            "Epoch 46/100\n",
            "197/197 [==============================] - 1s 4ms/step - loss: 1.5296 - accuracy: 0.5179\n",
            "Epoch 47/100\n",
            "197/197 [==============================] - 1s 4ms/step - loss: 1.5173 - accuracy: 0.5209\n",
            "Epoch 48/100\n",
            "197/197 [==============================] - 1s 4ms/step - loss: 1.5106 - accuracy: 0.5178\n",
            "Epoch 49/100\n",
            "197/197 [==============================] - 1s 4ms/step - loss: 1.4981 - accuracy: 0.5259\n",
            "Epoch 50/100\n",
            "197/197 [==============================] - 1s 4ms/step - loss: 1.4902 - accuracy: 0.5259\n",
            "Epoch 51/100\n",
            "197/197 [==============================] - 1s 4ms/step - loss: 1.4760 - accuracy: 0.5281\n",
            "Epoch 52/100\n",
            "197/197 [==============================] - 1s 4ms/step - loss: 1.4616 - accuracy: 0.5378\n",
            "Epoch 53/100\n",
            "197/197 [==============================] - 1s 4ms/step - loss: 1.4585 - accuracy: 0.5336\n",
            "Epoch 54/100\n",
            "197/197 [==============================] - 1s 4ms/step - loss: 1.4490 - accuracy: 0.5325\n",
            "Epoch 55/100\n",
            "197/197 [==============================] - 1s 4ms/step - loss: 1.4456 - accuracy: 0.5341\n",
            "Epoch 56/100\n",
            "197/197 [==============================] - 1s 4ms/step - loss: 1.4260 - accuracy: 0.5457\n",
            "Epoch 57/100\n",
            "197/197 [==============================] - 1s 4ms/step - loss: 1.4209 - accuracy: 0.5424\n",
            "Epoch 58/100\n",
            "197/197 [==============================] - 1s 4ms/step - loss: 1.4098 - accuracy: 0.5463\n",
            "Epoch 59/100\n",
            "197/197 [==============================] - 1s 4ms/step - loss: 1.4054 - accuracy: 0.5470\n",
            "Epoch 60/100\n",
            "197/197 [==============================] - 1s 4ms/step - loss: 1.3952 - accuracy: 0.5535\n",
            "Epoch 61/100\n",
            "197/197 [==============================] - 1s 4ms/step - loss: 1.3845 - accuracy: 0.5497\n",
            "Epoch 62/100\n",
            "197/197 [==============================] - 1s 3ms/step - loss: 1.3800 - accuracy: 0.5543\n",
            "Epoch 63/100\n",
            "197/197 [==============================] - 1s 4ms/step - loss: 1.3727 - accuracy: 0.5519\n",
            "Epoch 64/100\n",
            "197/197 [==============================] - 1s 4ms/step - loss: 1.3638 - accuracy: 0.5589\n",
            "Epoch 65/100\n",
            "197/197 [==============================] - 1s 4ms/step - loss: 1.3592 - accuracy: 0.5544\n",
            "Epoch 66/100\n",
            "197/197 [==============================] - 1s 4ms/step - loss: 1.3491 - accuracy: 0.5650\n",
            "Epoch 67/100\n",
            "197/197 [==============================] - 1s 4ms/step - loss: 1.3437 - accuracy: 0.5642\n",
            "Epoch 68/100\n",
            "197/197 [==============================] - 1s 4ms/step - loss: 1.3386 - accuracy: 0.5639\n",
            "Epoch 69/100\n",
            "197/197 [==============================] - 1s 4ms/step - loss: 1.3306 - accuracy: 0.5641\n",
            "Epoch 70/100\n",
            "197/197 [==============================] - 1s 4ms/step - loss: 1.3240 - accuracy: 0.5654\n",
            "Epoch 71/100\n",
            "197/197 [==============================] - 1s 4ms/step - loss: 1.3145 - accuracy: 0.5650\n",
            "Epoch 72/100\n",
            "197/197 [==============================] - 1s 4ms/step - loss: 1.3082 - accuracy: 0.5682\n",
            "Epoch 73/100\n",
            "197/197 [==============================] - 1s 4ms/step - loss: 1.3042 - accuracy: 0.5676\n",
            "Epoch 74/100\n",
            "197/197 [==============================] - 1s 4ms/step - loss: 1.2979 - accuracy: 0.5700\n",
            "Epoch 75/100\n",
            "197/197 [==============================] - 1s 4ms/step - loss: 1.2924 - accuracy: 0.5719\n",
            "Epoch 76/100\n",
            "197/197 [==============================] - 1s 4ms/step - loss: 1.2833 - accuracy: 0.5765\n",
            "Epoch 77/100\n",
            "197/197 [==============================] - 1s 4ms/step - loss: 1.2816 - accuracy: 0.5717\n",
            "Epoch 78/100\n",
            "197/197 [==============================] - 1s 4ms/step - loss: 1.2745 - accuracy: 0.5784\n",
            "Epoch 79/100\n",
            "197/197 [==============================] - 1s 4ms/step - loss: 1.2668 - accuracy: 0.5793\n",
            "Epoch 80/100\n",
            "197/197 [==============================] - 1s 4ms/step - loss: 1.2649 - accuracy: 0.5815\n",
            "Epoch 81/100\n",
            "197/197 [==============================] - 1s 4ms/step - loss: 1.2539 - accuracy: 0.5765\n",
            "Epoch 82/100\n",
            "197/197 [==============================] - 1s 4ms/step - loss: 1.2550 - accuracy: 0.5811\n",
            "Epoch 83/100\n",
            "197/197 [==============================] - 1s 4ms/step - loss: 1.2484 - accuracy: 0.5804\n",
            "Epoch 84/100\n",
            "197/197 [==============================] - 1s 4ms/step - loss: 1.2390 - accuracy: 0.5799\n",
            "Epoch 85/100\n",
            "197/197 [==============================] - 1s 4ms/step - loss: 1.2404 - accuracy: 0.5850\n",
            "Epoch 86/100\n",
            "197/197 [==============================] - 1s 4ms/step - loss: 1.2275 - accuracy: 0.5841\n",
            "Epoch 87/100\n",
            "197/197 [==============================] - 1s 4ms/step - loss: 1.2313 - accuracy: 0.5839\n",
            "Epoch 88/100\n",
            "197/197 [==============================] - 1s 4ms/step - loss: 1.2226 - accuracy: 0.5868\n",
            "Epoch 89/100\n",
            "197/197 [==============================] - 1s 4ms/step - loss: 1.2175 - accuracy: 0.5903\n",
            "Epoch 90/100\n",
            "197/197 [==============================] - 1s 4ms/step - loss: 1.2125 - accuracy: 0.5828\n",
            "Epoch 91/100\n",
            "197/197 [==============================] - 1s 4ms/step - loss: 1.2040 - accuracy: 0.5838\n",
            "Epoch 92/100\n",
            "197/197 [==============================] - 1s 4ms/step - loss: 1.2080 - accuracy: 0.5868\n",
            "Epoch 93/100\n",
            "197/197 [==============================] - 1s 4ms/step - loss: 1.2045 - accuracy: 0.5891\n",
            "Epoch 94/100\n",
            "197/197 [==============================] - 1s 4ms/step - loss: 1.1960 - accuracy: 0.5866\n",
            "Epoch 95/100\n",
            "197/197 [==============================] - 1s 4ms/step - loss: 1.1937 - accuracy: 0.5911\n",
            "Epoch 96/100\n",
            "197/197 [==============================] - 1s 4ms/step - loss: 1.1876 - accuracy: 0.5958\n",
            "Epoch 97/100\n",
            "197/197 [==============================] - 1s 4ms/step - loss: 1.1826 - accuracy: 0.5957\n",
            "Epoch 98/100\n",
            "197/197 [==============================] - 1s 4ms/step - loss: 1.1817 - accuracy: 0.5884\n",
            "Epoch 99/100\n",
            "197/197 [==============================] - 1s 4ms/step - loss: 1.1757 - accuracy: 0.5938\n",
            "Epoch 100/100\n",
            "197/197 [==============================] - 1s 4ms/step - loss: 1.1744 - accuracy: 0.5917\n"
          ]
        }
      ]
    },
    {
      "cell_type": "code",
      "source": [
        "def buildPhrase(inp_str, str_len=50):\n",
        "    for i in range(str_len):\n",
        "        x = []\n",
        "        for j in range(i, i + inp_chars):\n",
        "            x.append(tokenizer.texts_to_matrix(inp_str[j]))  # преобразуем символы в One-Hot-encoding\n",
        "\n",
        "        x = np.array(x)\n",
        "        inp = x.reshape(1, inp_chars, num_characters)\n",
        "\n",
        "        pred = model.predict(inp)  # предсказываем OHE четвертого символа\n",
        "        d = tokenizer.index_word[pred.argmax(axis=1)[0]]  # получаем ответ в символьном представлении\n",
        "\n",
        "        inp_str += d  # дописываем строку\n",
        "\n",
        "    return inp_str\n",
        "\n",
        "res = buildPhrase(\"мечта\")\n",
        "print(res)"
      ],
      "metadata": {
        "colab": {
          "base_uri": "https://localhost:8080/"
        },
        "id": "C7MNYFQml75x",
        "outputId": "49a7e2d0-ad8d-4d28-fe60-be045f226333"
      },
      "execution_count": null,
      "outputs": [
        {
          "output_type": "stream",
          "name": "stdout",
          "text": [
            "1/1 [==============================] - 0s 29ms/step\n",
            "1/1 [==============================] - 0s 26ms/step\n",
            "1/1 [==============================] - 0s 31ms/step\n",
            "1/1 [==============================] - 0s 26ms/step\n",
            "1/1 [==============================] - 0s 22ms/step\n",
            "1/1 [==============================] - 0s 34ms/step\n",
            "1/1 [==============================] - 0s 26ms/step\n",
            "1/1 [==============================] - 0s 23ms/step\n",
            "1/1 [==============================] - 0s 29ms/step\n",
            "1/1 [==============================] - 0s 42ms/step\n",
            "1/1 [==============================] - 0s 20ms/step\n",
            "1/1 [==============================] - 0s 25ms/step\n",
            "1/1 [==============================] - 0s 21ms/step\n",
            "1/1 [==============================] - 0s 20ms/step\n",
            "1/1 [==============================] - 0s 18ms/step\n",
            "1/1 [==============================] - 0s 21ms/step\n",
            "1/1 [==============================] - 0s 17ms/step\n",
            "1/1 [==============================] - 0s 18ms/step\n",
            "1/1 [==============================] - 0s 19ms/step\n",
            "1/1 [==============================] - 0s 18ms/step\n",
            "1/1 [==============================] - 0s 25ms/step\n",
            "1/1 [==============================] - 0s 20ms/step\n",
            "1/1 [==============================] - 0s 24ms/step\n",
            "1/1 [==============================] - 0s 18ms/step\n",
            "1/1 [==============================] - 0s 18ms/step\n",
            "1/1 [==============================] - 0s 21ms/step\n",
            "1/1 [==============================] - 0s 19ms/step\n",
            "1/1 [==============================] - 0s 21ms/step\n",
            "1/1 [==============================] - 0s 19ms/step\n",
            "1/1 [==============================] - 0s 23ms/step\n",
            "1/1 [==============================] - 0s 19ms/step\n",
            "1/1 [==============================] - 0s 18ms/step\n",
            "1/1 [==============================] - 0s 23ms/step\n",
            "1/1 [==============================] - 0s 25ms/step\n",
            "1/1 [==============================] - 0s 20ms/step\n",
            "1/1 [==============================] - 0s 19ms/step\n",
            "1/1 [==============================] - 0s 18ms/step\n",
            "1/1 [==============================] - 0s 17ms/step\n",
            "1/1 [==============================] - 0s 19ms/step\n",
            "1/1 [==============================] - 0s 19ms/step\n",
            "1/1 [==============================] - 0s 23ms/step\n",
            "1/1 [==============================] - 0s 25ms/step\n",
            "1/1 [==============================] - 0s 18ms/step\n",
            "1/1 [==============================] - 0s 22ms/step\n",
            "1/1 [==============================] - 0s 19ms/step\n",
            "1/1 [==============================] - 0s 19ms/step\n",
            "1/1 [==============================] - 0s 22ms/step\n",
            "1/1 [==============================] - 0s 19ms/step\n",
            "1/1 [==============================] - 0s 19ms/step\n",
            "1/1 [==============================] - 0s 22ms/step\n",
            "мечтатый   дввви еес л пиботы ь м сентбниоет   пввоосе \n"
          ]
        }
      ]
    }
  ]
}